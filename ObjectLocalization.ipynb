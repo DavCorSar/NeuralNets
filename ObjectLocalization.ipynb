{
 "cells": [
  {
   "cell_type": "markdown",
   "metadata": {
    "id": "tktvdabC18-s"
   },
   "source": [
    "\n",
    "# Object Localization"
   ]
  },
  {
   "cell_type": "markdown",
   "metadata": {
    "id": "mFLTv4idOONR"
   },
   "source": [
    "### Import necessary modules"
   ]
  },
  {
   "cell_type": "code",
   "execution_count": 23,
   "metadata": {
    "colab": {
     "base_uri": "https://localhost:8080/"
    },
    "id": "Z__gn53GOONT",
    "outputId": "3a29a98f-c080-4615-9039-4368d2ebfc75"
   },
   "outputs": [
    {
     "name": "stdout",
     "output_type": "stream",
     "text": [
      "Check GPU runtime type... \n",
      "OK!\n"
     ]
    }
   ],
   "source": [
    "import torch\n",
    "import torch.nn as nn\n",
    "import torch.nn.functional as F\n",
    "import torch.optim as optim\n",
    "from torch.utils.data import Dataset, DataLoader\n",
    "from torchvision import datasets, transforms\n",
    "from torch.optim.lr_scheduler import StepLR\n",
    "\n",
    "import numpy as np\n",
    "import matplotlib.pyplot as plt\n",
    "from skimage.transform import resize\n",
    "\n",
    "from torchsummary import summary\n",
    "\n",
    "use_cuda = torch.cuda.is_available()\n",
    "if not use_cuda:\n",
    "    device = \"cpu\"\n",
    "\n",
    "else:\n",
    "    device = \"cuda\"\n",
    "    print('OK!')"
   ]
  },
  {
   "cell_type": "markdown",
   "metadata": {
    "id": "xJG-7PGF18-0"
   },
   "source": [
    "## Create a custom dataset"
   ]
  },
  {
   "cell_type": "markdown",
   "metadata": {
    "id": "1xicFSzH18-1"
   },
   "source": [
    "First of all we need a custom dataset class to create our training/test samples. This class creates synthetic images by placing FashionMNIST objects (wich have a size $28 \\times 28$) at random locations of a black $64 \\times 64$ canvas image."
   ]
  },
  {
   "cell_type": "code",
   "execution_count": 24,
   "metadata": {
    "id": "RhvETBzY18-2"
   },
   "outputs": [],
   "source": [
    "class FashionMNISTlocalizationDataset(Dataset):\n",
    "\n",
    "    def __init__(self, imgsize=(64,64), train=True, transform=None):\n",
    "\n",
    "        assert len(imgsize)==2 and imgsize[0] > 48 and imgsize[1] > 48\n",
    "        self.imgsize = imgsize\n",
    "        self.transform = transform\n",
    "        self.fashionMnist = datasets.FashionMNIST('../data', train=train, download=True)\n",
    "\n",
    "    def __len__(self):\n",
    "        return self.fashionMnist.data.shape[0]\n",
    "\n",
    "    def __getitem__(self, idx):\n",
    "        if torch.is_tensor(idx):\n",
    "            idx = idx.tolist()\n",
    "        # create a black image\n",
    "        image = torch.zeros(self.imgsize)\n",
    "        image_width, image_height = self.imgsize\n",
    "                \n",
    "        # Get one Fashion-MNIST object, resize it randomly, and copy it into\n",
    "        # a random location of the black image\n",
    "        object_img = self.fashionMnist.data[idx,:,:]\n",
    "\n",
    "        object_width  = object_height = np.random.randint(19,47)\n",
    "\n",
    "        object_img = resize(object_img, (object_height, object_width))\n",
    "\n",
    "        x_offset = np.random.randint(0,image_width-object_width)\n",
    "        y_offset = np.random.randint(0,image_height-object_height)\n",
    "\n",
    "        image[y_offset:y_offset+object_height, x_offset:x_offset+object_width] += object_img\n",
    "        \n",
    "        image = image.reshape((1,)+self.imgsize) # must be a tensor image of size (C, H, W)\n",
    "        \n",
    "        if self.transform:\n",
    "            image = self.transform(image)\n",
    "\n",
    "        # normalize the target values (bounding box coordinates) so they are real numbers from 0. to 1.\n",
    "        bbox = np.array([x_offset / image_width, y_offset / image_height, \n",
    "                         object_width / image_width, object_height / image_height], dtype=np.float32)\n",
    "            \n",
    "        sample = {'image': image, 'bbox': bbox}\n",
    "\n",
    "        return sample"
   ]
  },
  {
   "cell_type": "markdown",
   "metadata": {
    "id": "vWKcFZeSOONa"
   },
   "source": [
    "Now we can create the necessary Dataset and DataLoader objects as follows."
   ]
  },
  {
   "cell_type": "code",
   "execution_count": 25,
   "metadata": {
    "colab": {
     "base_uri": "https://localhost:8080/",
     "height": 431,
     "referenced_widgets": [
      "71006eeaf72f4f6ab4a3b97fdf023588",
      "eb524a3e28ef463d9b5a7afc3db00207",
      "6d9988305b554f2593e81de1de6d6921",
      "3445961831a14d159950c188cb8b7354",
      "437e49af3b4e4c2aa198123401493b68",
      "1ccdbd4a498c4e96885c9e5bd686f4c2",
      "230335c3675c463abb988b33c735301a",
      "d65488b075b04626b36d8a0937d35edc",
      "1992e8e9da9643908f69cfb1b7c9e5d6",
      "7d2d5483f8a641ce8af136ada779afe1",
      "a4352eeadccb4d63b15b37a19f0e371d",
      "aeab1d85d16b45a88f4cfc1cec48ef4e",
      "5077fc23e8a244108b84c1e73ffa277c",
      "59aeda1a4c94483baffd894250377b7c",
      "43c269bfa85843efb0c5159612f9569a",
      "9974119455d747b192efea84b186e8f6",
      "1438b6cae5b74fb581141d1c6afd112a",
      "759d1c19c443464780ed03196baac201",
      "f23a5b23d8a643d68ec6dd74148dd046",
      "d0334b883d544084b5b6a5cbe2b6907d",
      "14ebbb76c415482197b2b47473e667a5",
      "a371a65e1b71416fbcd621dbfcbcb9ed",
      "f639258418b643a39bc16e1be2041a07",
      "a715cbd51da340e296a6afd518622797",
      "4b5237872e364b5f9b0f256f247f5e4b",
      "8a547b554344452e977de255dd0758a7",
      "cd35d0edcff34f8780a36aa2b91dd373",
      "b3e9249aec0844af95be9f151cb1636d",
      "c338f19a55714700994a47aefc3140b2",
      "1560f90afc9849b99745bbed244fd437",
      "ca7f4972f7b549b7a137b519b43b9ec9",
      "b51e51e1e0974e87a6e59fccf1a59354",
      "eb13aa8b0e3f4351a8bf1c5e8fce4ce4",
      "074b9d2ba10146d188c187bda2aa1255",
      "8a596781851544238027c8d8a8bf6fc3",
      "a3ddd19f612b4a318dd2af67cec0fd30",
      "fb07891e381849eeb58f63d1887192b0",
      "e47f9b5315524998a80488813423e528",
      "b0a543b0fa534b7aa1ba37a82dece461",
      "d1d54732acc3463f8e6ce091cde7f4e2",
      "c0c354bfb3c74472ad1bace11fd0cedb",
      "af6730d4d13048c4bd4c3f0dee59b92a",
      "641f288b940d4749bf392ec8f364c826",
      "ea9233bc68004ef9bb107f2fd5e9d853"
     ]
    },
    "id": "uFW3wayxOONb",
    "outputId": "228941dc-e438-4e5b-bd9c-89984527347b"
   },
   "outputs": [],
   "source": [
    "transform=transforms.Compose([\n",
    "        transforms.Normalize((0.1307,), (0.3081,))\n",
    "        ])\n",
    "\n",
    "dataset1 = FashionMNISTlocalizationDataset(train=True, transform=transform)\n",
    "dataset2 = FashionMNISTlocalizationDataset(train=False, transform=transform)\n",
    "\n",
    "train_kwargs = {'batch_size': 64}\n",
    "test_kwargs  = {'batch_size': 1000}\n",
    "\n",
    "if use_cuda:\n",
    "    cuda_kwargs = {'num_workers': 1,\n",
    "                   'pin_memory': True,\n",
    "                   'shuffle': True}\n",
    "    train_kwargs.update(cuda_kwargs)\n",
    "    test_kwargs.update(cuda_kwargs)\n",
    "\n",
    "train_loader = DataLoader(dataset1, **train_kwargs)\n",
    "test_loader = DataLoader(dataset2, **test_kwargs)"
   ]
  },
  {
   "cell_type": "markdown",
   "metadata": {
    "id": "mS-cmCLP18-2"
   },
   "source": [
    "### Visualize some generated samples"
   ]
  },
  {
   "cell_type": "code",
   "execution_count": 26,
   "metadata": {
    "colab": {
     "base_uri": "https://localhost:8080/",
     "height": 193
    },
    "id": "4aAtRuL-18-2",
    "outputId": "d15a1574-0c54-4ef0-c7a7-fa85687a3f61"
   },
   "outputs": [
    {
     "name": "stdout",
     "output_type": "stream",
     "text": [
      "0 torch.Size([1, 64, 64]) (4,)\n",
      "1 torch.Size([1, 64, 64]) (4,)\n",
      "2 torch.Size([1, 64, 64]) (4,)\n",
      "3 torch.Size([1, 64, 64]) (4,)\n"
     ]
    },
    {
     "data": {
      "image/png": "[encoded data removed]",
      "text/plain": [
       "<Figure size 432x288 with 4 Axes>"
      ]
     },
     "metadata": {
      "needs_background": "light"
     },
     "output_type": "display_data"
    }
   ],
   "source": [
    "def show_bbox(image, bbox, pred=None):\n",
    "    \"\"\"Show image with bbox\"\"\"\n",
    "    image = image.squeeze() #elimina dimensions 1\n",
    "    plt.imshow(image, cmap='gray')\n",
    "\n",
    "    # plot the ground truth bounding box\n",
    "    imgsize = image.shape\n",
    "    bbox *= [imgsize[1],imgsize[0],imgsize[0],imgsize[1]]\n",
    "    plt.plot([bbox[0],bbox[0]+bbox[2],bbox[0]+bbox[2],bbox[0],bbox[0]],\n",
    "             [bbox[1],bbox[1],bbox[1]+bbox[3],bbox[1]+bbox[3],bbox[1]], c='r')\n",
    "\n",
    "    if pred is not None: \n",
    "        # plot the predicted bounding box (if provided)\n",
    "        pred *= [imgsize[1],imgsize[0],imgsize[0],imgsize[1]]\n",
    "        plt.plot([pred[0],pred[0]+pred[2],pred[0]+pred[2],pred[0],pred[0]],\n",
    "                 [pred[1],pred[1],pred[1]+pred[3],pred[1]+pred[3],pred[1]], c='b')\n",
    "    \n",
    "    \n",
    "fig = plt.figure()\n",
    "for i in range(len(dataset1)):\n",
    "    sample = dataset1[i]\n",
    "    print(i, sample['image'].shape, sample['bbox'].shape)\n",
    "    ax = plt.subplot(1, 4, i + 1)\n",
    "    plt.tight_layout()\n",
    "    ax.set_title('Sample #{}'.format(i))\n",
    "    ax.axis('off')\n",
    "    show_bbox(**sample)\n",
    "\n",
    "    if i == 3:\n",
    "        plt.show()\n",
    "        break"
   ]
  },
  {
   "cell_type": "code",
   "execution_count": 27,
   "metadata": {
    "colab": {
     "base_uri": "https://localhost:8080/"
    },
    "id": "aszWIV0m18-5",
    "outputId": "9edd9e65-46b5-4944-ebe3-df7e5d4e98ae"
   },
   "outputs": [
    {
     "name": "stdout",
     "output_type": "stream",
     "text": [
      "Size of training data: 60000\n",
      "Size of test data: 10000\n"
     ]
    }
   ],
   "source": [
    "# check the size of the dataset\n",
    "print(\"Size of training data: {}\".format(len(dataset1)))\n",
    "print(\"Size of test data: {}\".format(len(dataset2)))"
   ]
  },
  {
   "cell_type": "markdown",
   "metadata": {
    "id": "gmOpSBhE18-3"
   },
   "source": [
    "We have 60,000 images for training and 10,000 for testing. The image size is $64 \\times 64$ pixels and they have only one channel (greyscale images)."
   ]
  },
  {
   "cell_type": "markdown",
   "metadata": {
    "id": "DyLPtyuE18-7"
   },
   "source": [
    "## Create the CNN regression model\n",
    "\n",
    "We will use a simple CNN model with four convolutional layers, one pooling layer, and two fully connected layers. \n",
    "\n",
    "Notice that the output layer has four neurons with a `sigmoid` activation, so our model produces at its outputs four real numbers (x, y, width, and height).\n",
    "\n",
    "**Question: Why are we using a `sigmoid` activation? Can we use other activation functions in this model?**"
   ]
  },
  {
   "cell_type": "code",
   "execution_count": 28,
   "metadata": {
    "colab": {
     "base_uri": "https://localhost:8080/"
    },
    "id": "ind1Flc-18-7",
    "outputId": "b80c50de-33e8-4a14-cc98-47ea358b26b6"
   },
   "outputs": [
    {
     "name": "stdout",
     "output_type": "stream",
     "text": [
      "----------------------------------------------------------------\n",
      "        Layer (type)               Output Shape         Param #\n",
      "================================================================\n",
      "            Conv2d-1            [-1, 8, 32, 32]             208\n",
      "              ReLU-2            [-1, 8, 32, 32]               0\n",
      "            Conv2d-3           [-1, 16, 16, 16]           1,168\n",
      "              ReLU-4           [-1, 16, 16, 16]               0\n",
      "            Conv2d-5             [-1, 32, 8, 8]           4,640\n",
      "              ReLU-6             [-1, 32, 8, 8]               0\n",
      "            Conv2d-7             [-1, 32, 4, 4]           9,248\n",
      "              ReLU-8             [-1, 32, 4, 4]               0\n",
      " AdaptiveAvgPool2d-9             [-1, 32, 1, 1]               0\n",
      "          Flatten-10                   [-1, 32]               0\n",
      "           Linear-11                    [-1, 4]             132\n",
      "          Sigmoid-12                    [-1, 4]               0\n",
      "================================================================\n",
      "Total params: 15,396\n",
      "Trainable params: 15,396\n",
      "Non-trainable params: 0\n",
      "----------------------------------------------------------------\n",
      "Input size (MB): 0.02\n",
      "Forward/backward pass size (MB): 0.23\n",
      "Params size (MB): 0.06\n",
      "Estimated Total Size (MB): 0.30\n",
      "----------------------------------------------------------------\n"
     ]
    }
   ],
   "source": [
    "class Net(nn.Module):\n",
    "    def __init__(self):\n",
    "        super(Net, self).__init__()\n",
    "        self.backbone = nn.Sequential(\n",
    "          nn.Conv2d( 1, 8, 5, padding=2,stride=2), nn.ReLU(), #14\n",
    "          nn.Conv2d( 8,16, 3, padding=1,stride=2), nn.ReLU(), # 7\n",
    "          nn.Conv2d(16,32, 3, padding=1,stride=2), nn.ReLU(), # 4\n",
    "          nn.Conv2d(32,32, 3, padding=1,stride=2), nn.ReLU(), # 2\n",
    "          nn.AdaptiveAvgPool2d(1),\n",
    "          nn.Flatten(),\n",
    "          )\n",
    "        \n",
    "        self.bbox = nn.Sequential(nn.Linear(32,4), nn.Sigmoid())\n",
    "        \n",
    "    def forward(self, x):\n",
    "        features = self.backbone(x)\n",
    "        bbox = self.bbox(features)\n",
    "        return bbox\n",
    "\n",
    "summary(Net(),(1,64,64),device=\"cpu\")"
   ]
  },
  {
   "cell_type": "markdown",
   "metadata": {
    "id": "ndYgcQkW18-8"
   },
   "source": [
    "### Define the training method\n",
    "\n",
    "For training our CNN regression model we will use the L1 loss, which takes the mean element-wise absolute value difference.\n",
    "\n",
    "See <a href=\"https://pytorch.org/docs/stable/generated/torch.nn.L1Loss.html#torch.nn.L1Loss\">`torch.nn.L1Loss`</a> for details."
   ]
  },
  {
   "cell_type": "code",
   "execution_count": 29,
   "metadata": {
    "id": "u2LLkt5218-8"
   },
   "outputs": [],
   "source": [
    "def train(model, device, train_loader, optimizer, epoch, scheduler=None):\n",
    "    model.train()\n",
    "    loss_values = []\n",
    "    for batch_idx, sample_batched in enumerate(train_loader):\n",
    "        data = sample_batched['image']\n",
    "        target = sample_batched['bbox']\n",
    "        data, target = data.to(device), target.to(device)\n",
    "        optimizer.zero_grad()\n",
    "        output = model(data)\n",
    "        loss = F.l1_loss(output, target) # MAE\n",
    "        loss_values.append(loss.detach().cpu())\n",
    "        loss.backward()\n",
    "        optimizer.step()\n",
    "        if batch_idx % log_interval == 0:\n",
    "            print('Train Epoch: {} [{}/{} ({:.0f}%)]\\tLoss: {:.6f}'.format(\n",
    "                epoch, batch_idx * len(data), len(train_loader.dataset),\n",
    "                100. * batch_idx / len(train_loader), loss.item()))\n",
    "        if scheduler is not None:\n",
    "            scheduler.step()\n",
    "    return loss_values"
   ]
  },
  {
   "cell_type": "markdown",
   "metadata": {
    "id": "oOvIRgNG18-8"
   },
   "source": [
    "### Train the model\n",
    "\n",
    "We will train the model with the [`Adam`](https://pytorch.org/docs/stable/optim.html?highlight=adam#torch.optim.Adam) and the [`OneCycleLR`](https://pytorch.org/docs/stable/optim.html?highlight=onecyclelr#torch.optim.lr_scheduler.OneCycleLR) learning rate scheduler."
   ]
  },
  {
   "cell_type": "code",
   "execution_count": 30,
   "metadata": {
    "colab": {
     "base_uri": "https://localhost:8080/"
    },
    "id": "7yGqDf0w18-9",
    "outputId": "3a8fbab5-ca89-4b3b-a075-13af86823a34"
   },
   "outputs": [
    {
     "name": "stdout",
     "output_type": "stream",
     "text": [
      "Train Epoch: 1 [0/60000 (0%)]\tLoss: 0.204158\n",
      "Train Epoch: 1 [6400/60000 (11%)]\tLoss: 0.114494\n",
      "Train Epoch: 1 [12800/60000 (21%)]\tLoss: 0.101592\n",
      "Train Epoch: 1 [19200/60000 (32%)]\tLoss: 0.079281\n",
      "Train Epoch: 1 [25600/60000 (43%)]\tLoss: 0.067220\n",
      "Train Epoch: 1 [32000/60000 (53%)]\tLoss: 0.053810\n",
      "Train Epoch: 1 [38400/60000 (64%)]\tLoss: 0.048400\n",
      "Train Epoch: 1 [44800/60000 (75%)]\tLoss: 0.049473\n",
      "Train Epoch: 1 [51200/60000 (85%)]\tLoss: 0.047770\n",
      "Train Epoch: 1 [57600/60000 (96%)]\tLoss: 0.049548\n",
      "Train Epoch: 2 [0/60000 (0%)]\tLoss: 0.046111\n",
      "Train Epoch: 2 [6400/60000 (11%)]\tLoss: 0.041319\n",
      "Train Epoch: 2 [12800/60000 (21%)]\tLoss: 0.035624\n",
      "Train Epoch: 2 [19200/60000 (32%)]\tLoss: 0.029281\n",
      "Train Epoch: 2 [25600/60000 (43%)]\tLoss: 0.031766\n",
      "Train Epoch: 2 [32000/60000 (53%)]\tLoss: 0.028659\n",
      "Train Epoch: 2 [38400/60000 (64%)]\tLoss: 0.031135\n",
      "Train Epoch: 2 [44800/60000 (75%)]\tLoss: 0.026269\n",
      "Train Epoch: 2 [51200/60000 (85%)]\tLoss: 0.032193\n",
      "Train Epoch: 2 [57600/60000 (96%)]\tLoss: 0.027407\n",
      "Train Epoch: 3 [0/60000 (0%)]\tLoss: 0.024927\n",
      "Train Epoch: 3 [6400/60000 (11%)]\tLoss: 0.023652\n",
      "Train Epoch: 3 [12800/60000 (21%)]\tLoss: 0.020325\n",
      "Train Epoch: 3 [19200/60000 (32%)]\tLoss: 0.023189\n",
      "Train Epoch: 3 [25600/60000 (43%)]\tLoss: 0.023044\n",
      "Train Epoch: 3 [32000/60000 (53%)]\tLoss: 0.020433\n",
      "Train Epoch: 3 [38400/60000 (64%)]\tLoss: 0.027218\n",
      "Train Epoch: 3 [44800/60000 (75%)]\tLoss: 0.020632\n",
      "Train Epoch: 3 [51200/60000 (85%)]\tLoss: 0.018451\n",
      "Train Epoch: 3 [57600/60000 (96%)]\tLoss: 0.019802\n",
      "Train Epoch: 4 [0/60000 (0%)]\tLoss: 0.018861\n",
      "Train Epoch: 4 [6400/60000 (11%)]\tLoss: 0.017707\n",
      "Train Epoch: 4 [12800/60000 (21%)]\tLoss: 0.017282\n",
      "Train Epoch: 4 [19200/60000 (32%)]\tLoss: 0.016448\n",
      "Train Epoch: 4 [25600/60000 (43%)]\tLoss: 0.016957\n",
      "Train Epoch: 4 [32000/60000 (53%)]\tLoss: 0.016775\n",
      "Train Epoch: 4 [38400/60000 (64%)]\tLoss: 0.015746\n",
      "Train Epoch: 4 [44800/60000 (75%)]\tLoss: 0.014829\n",
      "Train Epoch: 4 [51200/60000 (85%)]\tLoss: 0.019145\n",
      "Train Epoch: 4 [57600/60000 (96%)]\tLoss: 0.014591\n",
      "Train Epoch: 5 [0/60000 (0%)]\tLoss: 0.013825\n",
      "Train Epoch: 5 [6400/60000 (11%)]\tLoss: 0.016279\n",
      "Train Epoch: 5 [12800/60000 (21%)]\tLoss: 0.013828\n",
      "Train Epoch: 5 [19200/60000 (32%)]\tLoss: 0.011779\n",
      "Train Epoch: 5 [25600/60000 (43%)]\tLoss: 0.013242\n",
      "Train Epoch: 5 [32000/60000 (53%)]\tLoss: 0.012137\n",
      "Train Epoch: 5 [38400/60000 (64%)]\tLoss: 0.014170\n",
      "Train Epoch: 5 [44800/60000 (75%)]\tLoss: 0.012601\n",
      "Train Epoch: 5 [51200/60000 (85%)]\tLoss: 0.013219\n",
      "Train Epoch: 5 [57600/60000 (96%)]\tLoss: 0.013412\n"
     ]
    }
   ],
   "source": [
    "model = Net().to(device)\n",
    "\n",
    "lr = 1e-2\n",
    "optimizer = optim.Adam(model.parameters(), lr=lr)\n",
    "\n",
    "epochs = 5\n",
    "scheduler = optim.lr_scheduler.OneCycleLR(optimizer, lr, epochs=epochs, steps_per_epoch=len(train_loader))\n",
    "\n",
    "log_interval = 100\n",
    "\n",
    "loss_history_regression = []\n",
    "for epoch in range(1, epochs + 1):\n",
    "    loss_values = train(model, device, train_loader, optimizer, epoch, scheduler)\n",
    "    loss_history_regression += loss_values"
   ]
  },
  {
   "cell_type": "markdown",
   "metadata": {
    "id": "mIMOMKRh18--"
   },
   "source": [
    "### Plot the loss over time"
   ]
  },
  {
   "cell_type": "code",
   "execution_count": 31,
   "metadata": {
    "colab": {
     "base_uri": "https://localhost:8080/",
     "height": 281
    },
    "id": "Jb2ocuvo18--",
    "outputId": "5368642d-6b75-4fce-d223-133eb2f5d4e8"
   },
   "outputs": [
    {
     "data": {
      "image/png": "[encoded data removed]",
      "text/plain": [
       "<Figure size 432x288 with 1 Axes>"
      ]
     },
     "metadata": {
      "needs_background": "light"
     },
     "output_type": "display_data"
    }
   ],
   "source": [
    "plt.plot(np.arange(len(loss_history)), loss_history)\n",
    "plt.title('L1 training loss')\n",
    "plt.show()"
   ]
  },
  {
   "cell_type": "markdown",
   "metadata": {
    "id": "5tWPmXhk18--"
   },
   "source": [
    "## Evaluate the model\n",
    "\n",
    "Finally, we can use the trained model to predict a bounding box for any given image. Let's see how to make predictions for the first four images of the test set."
   ]
  },
  {
   "cell_type": "code",
   "execution_count": 32,
   "metadata": {
    "colab": {
     "base_uri": "https://localhost:8080/",
     "height": 122
    },
    "id": "JMecAtU618--",
    "outputId": "a9933db5-5f52-4108-e102-388bcf22e5f5"
   },
   "outputs": [
    {
     "data": {
      "image/png": "[encoded data removed]",
      "text/plain": [
       "<Figure size 432x288 with 4 Axes>"
      ]
     },
     "metadata": {
      "needs_background": "light"
     },
     "output_type": "display_data"
    }
   ],
   "source": [
    "model.eval()\n",
    "\n",
    "fig = plt.figure()\n",
    "for i in range(len(dataset2)):\n",
    "    sample = dataset2[i]\n",
    "    ax = plt.subplot(1, 4, i + 1)\n",
    "    plt.tight_layout()\n",
    "    ax.set_title('Sample #{}'.format(i))\n",
    "    ax.axis('off')\n",
    "    \n",
    "    # predict the bounding box for a given image\n",
    "    data = sample['image']\n",
    "    data = data.reshape((1,)+data.shape) # shape must be (b,c,h,w)\n",
    "    data = data.to(device)\n",
    "    with torch.no_grad():\n",
    "        output = model(data)\n",
    "        \n",
    "    sample['pred'] = output[0].cpu().numpy()\n",
    "    show_bbox(**sample)\n",
    "\n",
    "    if i == 3:\n",
    "        plt.show()\n",
    "        break"
   ]
  },
  {
   "cell_type": "code",
   "execution_count": 33,
   "metadata": {
    "id": "QHAsXDCuOONt"
   },
   "outputs": [],
   "source": [
    "def IoU(pred, target, iou_threshold = 0.7):\n",
    "    # determine the coordinates of the intersection rectangle\n",
    "    x_left = np.maximum(pred[:,0], target[:,0])\n",
    "    y_top = np.maximum(pred[:,1], target[:,1])\n",
    "    x_right = np.minimum(pred[:,0]+pred[:,2], target[:,0]+target[:,2])\n",
    "    y_bottom = np.minimum(pred[:,1]+pred[:,3], target[:,1]+target[:,3])\n",
    "    \n",
    "    intersection_area = (x_right - x_left) * (y_bottom - y_top)\n",
    "    \n",
    "    # compute the areas of the union\n",
    "    pred_area = pred[:,2] * pred[:,3]\n",
    "    target_area =  target[:,2] *  target[:,3]\n",
    "    \n",
    "    union_area = pred_area + target_area - intersection_area\n",
    "    \n",
    "    iou = intersection_area / union_area\n",
    "    \n",
    "    return iou>iou_threshold"
   ]
  },
  {
   "cell_type": "markdown",
   "metadata": {
    "id": "gSdUIu0SOONu"
   },
   "source": [
    "### Define the test method"
   ]
  },
  {
   "cell_type": "code",
   "execution_count": 34,
   "metadata": {
    "colab": {
     "base_uri": "https://localhost:8080/"
    },
    "id": "8oKnoZ3-OONu",
    "outputId": "c2f95333-fece-4cc6-e4db-ff26ce346d9b"
   },
   "outputs": [
    {
     "name": "stdout",
     "output_type": "stream",
     "text": [
      "\n",
      "Test set: Average loss: 0.0136, Accuracy: 9872/10000 (99%)\n",
      "\n"
     ]
    }
   ],
   "source": [
    "def test(model, device, test_loader):\n",
    "    model.eval()\n",
    "    test_loss = 0\n",
    "    correct = 0\n",
    "    with torch.no_grad():\n",
    "        for batch_idx, sample_batched in enumerate(test_loader):\n",
    "            data = sample_batched['image']\n",
    "            target = sample_batched['bbox']\n",
    "            data, target = data.to(device), target.to(device)\n",
    "            output = model(data)\n",
    "            test_loss += F.l1_loss(output, target).item()\n",
    "            \n",
    "            # count the number of prediction with an IoU above a certain threshold\n",
    "            correct += np.sum(IoU(output.cpu().numpy(), target.cpu().numpy(), iou_threshold = 0.7))\n",
    "\n",
    "    test_loss /= (len(test_loader.dataset)/test_loader.batch_size)\n",
    "\n",
    "    print('\\nTest set: Average loss: {:.4f}, Accuracy: {}/{} ({:.0f}%)\\n'.format(\n",
    "        test_loss, correct, len(test_loader.dataset),\n",
    "        100. * correct / len(test_loader.dataset)))\n",
    "    \n",
    "\n",
    "# call the test method\n",
    "test(model, device, test_loader)"
   ]
  },
  {
   "cell_type": "code",
   "execution_count": 35,
   "metadata": {
    "colab": {
     "base_uri": "https://localhost:8080/",
     "height": 106
    },
    "id": "V1oTY9JwOONv",
    "outputId": "017c3acf-94f3-4a23-a45c-82819ed7ed79",
    "scrolled": true
   },
   "outputs": [
    {
     "data": {
      "image/png": "[encoded data removed]",
      "text/plain": [
       "<Figure size 432x288 with 4 Axes>"
      ]
     },
     "metadata": {
      "needs_background": "light"
     },
     "output_type": "display_data"
    }
   ],
   "source": [
    "# Find wrong prediction and display it\n",
    "\n",
    "model.eval()\n",
    "\n",
    "count = 0\n",
    "\n",
    "for i in range(len(dataset2)):\n",
    "    sample = dataset2[i]\n",
    "    \n",
    "    data = sample['image']\n",
    "    data = data.reshape((1,)+data.shape) # shape must be (b,c,h,w)\n",
    "    data = data.to(device)\n",
    "    with torch.no_grad():\n",
    "        output = model(data)\n",
    "    \n",
    "    target = sample['bbox'].reshape((1,4))\n",
    "    iou= IoU(output.cpu().numpy(), target, iou_threshold = 0.7)\n",
    "    \n",
    "    if not iou:\n",
    "        ax = plt.subplot(1, 4, count + 1)\n",
    "        plt.tight_layout()\n",
    "        ax.axis('off')\n",
    "        sample['pred'] = output[0].cpu().numpy()\n",
    "        show_bbox(**sample)\n",
    "        count += 1\n",
    "           \n",
    "    if count == 4:\n",
    "        plt.show()\n",
    "        break\n",
    "\n",
    "\n",
    "\n"
   ]
  },
  {
   "cell_type": "markdown",
   "metadata": {
    "id": "iGojc_20RiGL"
   },
   "source": [
    "Now, we will create a second model with the objective of classifying the different images into its different classes:"
   ]
  },
  {
   "cell_type": "code",
   "execution_count": 36,
   "metadata": {
    "id": "87vOZaMkSCrs"
   },
   "outputs": [
    {
     "name": "stdout",
     "output_type": "stream",
     "text": [
      "----------------------------------------------------------------\n",
      "        Layer (type)               Output Shape         Param #\n",
      "================================================================\n",
      "            Conv2d-1            [-1, 8, 32, 32]             208\n",
      "              ReLU-2            [-1, 8, 32, 32]               0\n",
      "            Conv2d-3           [-1, 16, 16, 16]           1,168\n",
      "              ReLU-4           [-1, 16, 16, 16]               0\n",
      "            Conv2d-5             [-1, 32, 8, 8]           4,640\n",
      "              ReLU-6             [-1, 32, 8, 8]               0\n",
      "            Conv2d-7             [-1, 32, 4, 4]           9,248\n",
      "              ReLU-8             [-1, 32, 4, 4]               0\n",
      " AdaptiveAvgPool2d-9             [-1, 32, 1, 1]               0\n",
      "          Flatten-10                   [-1, 32]               0\n",
      "           Linear-11                   [-1, 10]             330\n",
      "================================================================\n",
      "Total params: 15,594\n",
      "Trainable params: 15,594\n",
      "Non-trainable params: 0\n",
      "----------------------------------------------------------------\n",
      "Input size (MB): 0.02\n",
      "Forward/backward pass size (MB): 0.23\n",
      "Params size (MB): 0.06\n",
      "Estimated Total Size (MB): 0.30\n",
      "----------------------------------------------------------------\n"
     ]
    }
   ],
   "source": [
    "# Add your code here\n",
    "class FashionMNISTlocalizationDataset(Dataset):\n",
    "    \"\"\"MNIST localization toy dataset.\"\"\"\n",
    "\n",
    "    def __init__(self, imgsize=(64,64), train=True, transform=None):\n",
    "        \"\"\"\n",
    "        Args:\n",
    "            imgsize (tuple (int,int), optional) - the size of generated images,\n",
    "                both width and height must be > 48\n",
    "            train (bool, optional) – If True, creates dataset from MNIST training\n",
    "                samples, otherwise from test\n",
    "            transform (callable, optional): Optional transform to be applied\n",
    "                on a sample.\n",
    "        \"\"\"\n",
    "        assert len(imgsize)==2 and imgsize[0] > 48 and imgsize[1] > 48\n",
    "        self.imgsize = imgsize\n",
    "        self.transform = transform\n",
    "        self.fashionMnist = datasets.FashionMNIST('../data', train=train, download=True)\n",
    "\n",
    "    def __len__(self):\n",
    "        return self.fashionMnist.data.shape[0]\n",
    "\n",
    "    def __getitem__(self, idx):\n",
    "        if torch.is_tensor(idx):\n",
    "            idx = idx.tolist()\n",
    "        # create a black image\n",
    "        image = torch.zeros(self.imgsize)\n",
    "        image_width, image_height = self.imgsize\n",
    "                \n",
    "        # Get one Fashion-MNIST object, resize it randomly, and copy it into\n",
    "        # a random location of the black image\n",
    "        object_img = self.fashionMnist.data[idx,:,:]\n",
    "\n",
    "        object_width  = object_height = np.random.randint(19,47)\n",
    "\n",
    "        object_img = resize(object_img, (object_height, object_width))\n",
    "\n",
    "        x_offset = np.random.randint(0,image_width-object_width)\n",
    "        y_offset = np.random.randint(0,image_height-object_height)\n",
    "\n",
    "        image[y_offset:y_offset+object_height, x_offset:x_offset+object_width] += object_img\n",
    "        \n",
    "        image = image.reshape((1,)+self.imgsize) # must be a tensor image of size (C, H, W)\n",
    "        \n",
    "        if self.transform:\n",
    "            image = self.transform(image)\n",
    "\n",
    "               \n",
    "        sample = {'image': image, 'label': self.fashionMnist.targets[idx]}\n",
    "\n",
    "        return sample\n",
    "    \n",
    "    \n",
    "    \n",
    "transform=transforms.Compose([\n",
    "        transforms.Normalize((0.1307,), (0.3081,))\n",
    "        ])\n",
    "\n",
    "dataset1 = FashionMNISTlocalizationDataset(train=True, transform=transform)\n",
    "dataset2 = FashionMNISTlocalizationDataset(train=False, transform=transform)\n",
    "\n",
    "train_kwargs = {'batch_size': 64}\n",
    "test_kwargs  = {'batch_size': 1000}\n",
    "\n",
    "if use_cuda:\n",
    "    cuda_kwargs = {'num_workers': 1,\n",
    "                   'pin_memory': True,\n",
    "                   'shuffle': True}\n",
    "    train_kwargs.update(cuda_kwargs)\n",
    "    test_kwargs.update(cuda_kwargs)\n",
    "\n",
    "train_loader = DataLoader(dataset1, **train_kwargs)\n",
    "test_loader = DataLoader(dataset2, **test_kwargs)\n",
    "\n",
    "class Net(nn.Module):\n",
    "    def __init__(self):\n",
    "        super(Net, self).__init__()\n",
    "        self.backbone = nn.Sequential(\n",
    "          nn.Conv2d( 1, 8, 5, padding=2,stride=2), nn.ReLU(), #14\n",
    "          nn.Conv2d( 8,16, 3, padding=1,stride=2), nn.ReLU(), # 7\n",
    "          nn.Conv2d(16,32, 3, padding=1,stride=2), nn.ReLU(), # 4\n",
    "          nn.Conv2d(32,32, 3, padding=1,stride=2), nn.ReLU(), # 2\n",
    "          nn.AdaptiveAvgPool2d(1),\n",
    "          nn.Flatten(),\n",
    "          )\n",
    "        \n",
    "        self.label = nn.Sequential(nn.Linear(32,10))#, nn.Sigmoid())\n",
    "        \n",
    "    def forward(self, x):\n",
    "        features = self.backbone(x)\n",
    "        label = self.label(features)\n",
    "        return label\n",
    "\n",
    "summary(Net(),(1,64,64),device=\"cpu\")"
   ]
  },
  {
   "cell_type": "code",
   "execution_count": 37,
   "metadata": {},
   "outputs": [],
   "source": [
    "def train(model, device, train_loader, optimizer, epoch, scheduler=None):\n",
    "    model.train()\n",
    "    loss_values = []\n",
    "    for batch_idx, sample_batched in enumerate(train_loader):\n",
    "        data = sample_batched['image']\n",
    "        target = sample_batched['label']\n",
    "        data, target = data.to(device), target.to(device)\n",
    "        optimizer.zero_grad()\n",
    "        output = model(data)\n",
    "        loss = F.cross_entropy(output, target)\n",
    "        loss_values.append(loss.detach().cpu())\n",
    "        loss.backward()\n",
    "        optimizer.step()\n",
    "        #optimizer.zero_grad()\n",
    "        #loss_values.append(loss.detach().cpu())\n",
    "        if batch_idx % log_interval == 0:\n",
    "            print('Train Epoch: {} [{}/{} ({:.0f}%)]\\tLoss: {:.6f}'.format(\n",
    "                epoch, batch_idx * len(data), len(train_loader.dataset),\n",
    "                100. * batch_idx / len(train_loader), loss.item()))\n",
    "        if scheduler is not None:\n",
    "            scheduler.step()\n",
    "    return loss_values"
   ]
  },
  {
   "cell_type": "code",
   "execution_count": 38,
   "metadata": {},
   "outputs": [
    {
     "name": "stdout",
     "output_type": "stream",
     "text": [
      "Train Epoch: 1 [0/60000 (0%)]\tLoss: 2.307948\n",
      "Train Epoch: 1 [6400/60000 (11%)]\tLoss: 2.279133\n",
      "Train Epoch: 1 [12800/60000 (21%)]\tLoss: 2.154833\n",
      "Train Epoch: 1 [19200/60000 (32%)]\tLoss: 1.439912\n",
      "Train Epoch: 1 [25600/60000 (43%)]\tLoss: 1.150750\n",
      "Train Epoch: 1 [32000/60000 (53%)]\tLoss: 1.216752\n",
      "Train Epoch: 1 [38400/60000 (64%)]\tLoss: 1.113703\n",
      "Train Epoch: 1 [44800/60000 (75%)]\tLoss: 0.953137\n",
      "Train Epoch: 1 [51200/60000 (85%)]\tLoss: 1.057760\n",
      "Train Epoch: 1 [57600/60000 (96%)]\tLoss: 1.005533\n",
      "Train Epoch: 2 [0/60000 (0%)]\tLoss: 1.208328\n",
      "Train Epoch: 2 [6400/60000 (11%)]\tLoss: 0.693841\n",
      "Train Epoch: 2 [12800/60000 (21%)]\tLoss: 0.721437\n",
      "Train Epoch: 2 [19200/60000 (32%)]\tLoss: 0.609746\n",
      "Train Epoch: 2 [25600/60000 (43%)]\tLoss: 0.766260\n",
      "Train Epoch: 2 [32000/60000 (53%)]\tLoss: 0.846788\n",
      "Train Epoch: 2 [38400/60000 (64%)]\tLoss: 0.680621\n",
      "Train Epoch: 2 [44800/60000 (75%)]\tLoss: 0.705229\n",
      "Train Epoch: 2 [51200/60000 (85%)]\tLoss: 0.609723\n",
      "Train Epoch: 2 [57600/60000 (96%)]\tLoss: 0.802582\n",
      "Train Epoch: 3 [0/60000 (0%)]\tLoss: 0.674950\n",
      "Train Epoch: 3 [6400/60000 (11%)]\tLoss: 0.587975\n",
      "Train Epoch: 3 [12800/60000 (21%)]\tLoss: 0.785119\n",
      "Train Epoch: 3 [19200/60000 (32%)]\tLoss: 0.799756\n",
      "Train Epoch: 3 [25600/60000 (43%)]\tLoss: 0.645758\n",
      "Train Epoch: 3 [32000/60000 (53%)]\tLoss: 0.689554\n",
      "Train Epoch: 3 [38400/60000 (64%)]\tLoss: 0.915042\n",
      "Train Epoch: 3 [44800/60000 (75%)]\tLoss: 0.477746\n",
      "Train Epoch: 3 [51200/60000 (85%)]\tLoss: 0.633606\n",
      "Train Epoch: 3 [57600/60000 (96%)]\tLoss: 0.592305\n",
      "Train Epoch: 4 [0/60000 (0%)]\tLoss: 0.504490\n",
      "Train Epoch: 4 [6400/60000 (11%)]\tLoss: 0.431118\n",
      "Train Epoch: 4 [12800/60000 (21%)]\tLoss: 0.683031\n",
      "Train Epoch: 4 [19200/60000 (32%)]\tLoss: 0.628830\n",
      "Train Epoch: 4 [25600/60000 (43%)]\tLoss: 0.546251\n",
      "Train Epoch: 4 [32000/60000 (53%)]\tLoss: 0.767351\n",
      "Train Epoch: 4 [38400/60000 (64%)]\tLoss: 0.648505\n",
      "Train Epoch: 4 [44800/60000 (75%)]\tLoss: 0.427884\n",
      "Train Epoch: 4 [51200/60000 (85%)]\tLoss: 0.689452\n",
      "Train Epoch: 4 [57600/60000 (96%)]\tLoss: 0.576190\n",
      "Train Epoch: 5 [0/60000 (0%)]\tLoss: 0.559427\n",
      "Train Epoch: 5 [6400/60000 (11%)]\tLoss: 0.464997\n",
      "Train Epoch: 5 [12800/60000 (21%)]\tLoss: 0.542890\n",
      "Train Epoch: 5 [19200/60000 (32%)]\tLoss: 0.525064\n",
      "Train Epoch: 5 [25600/60000 (43%)]\tLoss: 0.471716\n",
      "Train Epoch: 5 [32000/60000 (53%)]\tLoss: 0.508537\n",
      "Train Epoch: 5 [38400/60000 (64%)]\tLoss: 0.614154\n",
      "Train Epoch: 5 [44800/60000 (75%)]\tLoss: 0.391246\n",
      "Train Epoch: 5 [51200/60000 (85%)]\tLoss: 0.742335\n",
      "Train Epoch: 5 [57600/60000 (96%)]\tLoss: 0.478276\n"
     ]
    }
   ],
   "source": [
    "model = Net().to(device)\n",
    "\n",
    "lr = 1e-2\n",
    "optimizer = optim.Adam(model.parameters(), lr=lr)\n",
    "\n",
    "epochs = 5\n",
    "scheduler = optim.lr_scheduler.OneCycleLR(optimizer, lr, epochs=epochs, steps_per_epoch=len(train_loader))\n",
    "\n",
    "log_interval = 100 # how many batches to wait before logging training status\n",
    "\n",
    "loss_history = []\n",
    "for epoch in range(1, epochs + 1):\n",
    "    loss_values = train(model, device, train_loader, optimizer, epoch, scheduler)\n",
    "    loss_history += loss_values"
   ]
  },
  {
   "cell_type": "markdown",
   "metadata": {
    "id": "eLDUtAKPVMi5"
   },
   "source": [
    "Let's observes the losses curves of the classification model and the detection model:"
   ]
  },
  {
   "cell_type": "code",
   "execution_count": 39,
   "metadata": {
    "id": "Gps5SSTGWLn5"
   },
   "outputs": [
    {
     "data": {
      "image/png": "[encoded data removed]",
      "text/plain": [
       "<Figure size 432x288 with 1 Axes>"
      ]
     },
     "metadata": {
      "needs_background": "light"
     },
     "output_type": "display_data"
    }
   ],
   "source": [
    "# Add your code here\n",
    "import matplotlib.pyplot as plt\n",
    "plt.plot(loss_history, label=\"training loss of the classification model\")\n",
    "plt.plot(loss_history_regression, label=\"training loss of the regression model\")\n",
    "\n",
    "plt.legend()\n",
    "plt.show() "
   ]
  },
  {
   "cell_type": "markdown",
   "metadata": {
    "id": "9N-zhanZRdsE"
   },
   "source": [
    "Now, let's do another step: we will combine both models (classification and regression) in one. The model will have two outputs: the bounding box and the class label."
   ]
  },
  {
   "cell_type": "code",
   "execution_count": 48,
   "metadata": {
    "id": "iKEggN6MR9Ad"
   },
   "outputs": [
    {
     "name": "stdout",
     "output_type": "stream",
     "text": [
      "----------------------------------------------------------------\n",
      "        Layer (type)               Output Shape         Param #\n",
      "================================================================\n",
      "            Conv2d-1            [-1, 8, 32, 32]             208\n",
      "              ReLU-2            [-1, 8, 32, 32]               0\n",
      "            Conv2d-3           [-1, 16, 16, 16]           1,168\n",
      "              ReLU-4           [-1, 16, 16, 16]               0\n",
      "            Conv2d-5             [-1, 32, 8, 8]           4,640\n",
      "              ReLU-6             [-1, 32, 8, 8]               0\n",
      "            Conv2d-7             [-1, 32, 4, 4]           9,248\n",
      "              ReLU-8             [-1, 32, 4, 4]               0\n",
      " AdaptiveAvgPool2d-9             [-1, 32, 1, 1]               0\n",
      "          Flatten-10                   [-1, 32]               0\n",
      "           Linear-11                   [-1, 10]             330\n",
      "           Linear-12                    [-1, 4]             132\n",
      "          Sigmoid-13                    [-1, 4]               0\n",
      "================================================================\n",
      "Total params: 15,726\n",
      "Trainable params: 15,726\n",
      "Non-trainable params: 0\n",
      "----------------------------------------------------------------\n",
      "Input size (MB): 0.02\n",
      "Forward/backward pass size (MB): 0.23\n",
      "Params size (MB): 0.06\n",
      "Estimated Total Size (MB): 0.30\n",
      "----------------------------------------------------------------\n"
     ]
    }
   ],
   "source": [
    "# Add your code here\n",
    "class FashionMNISTlocalizationDataset(Dataset):\n",
    "    \"\"\"MNIST localization toy dataset.\"\"\"\n",
    "\n",
    "    def __init__(self, imgsize=(64,64), train=True, transform=None):\n",
    "        \"\"\"\n",
    "        Args:\n",
    "            imgsize (tuple (int,int), optional) - the size of generated images,\n",
    "                both width and height must be > 48\n",
    "            train (bool, optional) – If True, creates dataset from MNIST training\n",
    "                samples, otherwise from test\n",
    "            transform (callable, optional): Optional transform to be applied\n",
    "                on a sample.\n",
    "        \"\"\"\n",
    "        assert len(imgsize)==2 and imgsize[0] > 48 and imgsize[1] > 48\n",
    "        self.imgsize = imgsize\n",
    "        self.transform = transform\n",
    "        self.fashionMnist = datasets.FashionMNIST('../data', train=train, download=True)\n",
    "\n",
    "    def __len__(self):\n",
    "        return self.fashionMnist.data.shape[0]\n",
    "\n",
    "    def __getitem__(self, idx):\n",
    "        if torch.is_tensor(idx):\n",
    "            idx = idx.tolist()\n",
    "        # create a black image\n",
    "        image = torch.zeros(self.imgsize)\n",
    "        image_width, image_height = self.imgsize\n",
    "                \n",
    "        # Get one Fashion-MNIST object, resize it randomly, and copy it into\n",
    "        # a random location of the black image\n",
    "        object_img = self.fashionMnist.data[idx,:,:]\n",
    "\n",
    "        object_width  = object_height = np.random.randint(19,47)\n",
    "\n",
    "        object_img = resize(object_img, (object_height, object_width))\n",
    "\n",
    "        x_offset = np.random.randint(0,image_width-object_width)\n",
    "        y_offset = np.random.randint(0,image_height-object_height)\n",
    "\n",
    "        image[y_offset:y_offset+object_height, x_offset:x_offset+object_width] += object_img\n",
    "        \n",
    "        image = image.reshape((1,)+self.imgsize) # must be a tensor image of size (C, H, W)\n",
    "        \n",
    "        if self.transform:\n",
    "            image = self.transform(image)\n",
    "\n",
    "        bbox = np.array([x_offset / image_width, y_offset / image_height, \n",
    "                         object_width / image_width, object_height / image_height], dtype=np.float32)\n",
    "            \n",
    "               \n",
    "        sample = {'image': image, 'label': self.fashionMnist.targets[idx], 'bbox': bbox}\n",
    "\n",
    "        return sample\n",
    "    \n",
    "    \n",
    "    \n",
    "transform=transforms.Compose([\n",
    "        transforms.Normalize((0.1307,), (0.3081,))\n",
    "        ])\n",
    "\n",
    "dataset1 = FashionMNISTlocalizationDataset(train=True, transform=transform)\n",
    "dataset2 = FashionMNISTlocalizationDataset(train=False, transform=transform)\n",
    "\n",
    "train_kwargs = {'batch_size': 64}\n",
    "test_kwargs  = {'batch_size': 1000}\n",
    "\n",
    "if use_cuda:\n",
    "    cuda_kwargs = {'num_workers': 1,\n",
    "                   'pin_memory': True,\n",
    "                   'shuffle': True}\n",
    "    train_kwargs.update(cuda_kwargs)\n",
    "    test_kwargs.update(cuda_kwargs)\n",
    "\n",
    "train_loader = DataLoader(dataset1, **train_kwargs)\n",
    "test_loader = DataLoader(dataset2, **test_kwargs)\n",
    "\n",
    "\n",
    "class Net(nn.Module):\n",
    "    def __init__(self):\n",
    "        super(Net, self).__init__()\n",
    "        self.backbone = nn.Sequential(\n",
    "          nn.Conv2d( 1, 8, 5, padding=2,stride=2), nn.ReLU(), #14\n",
    "          nn.Conv2d( 8,16, 3, padding=1,stride=2), nn.ReLU(), # 7\n",
    "          nn.Conv2d(16,32, 3, padding=1,stride=2), nn.ReLU(), # 4\n",
    "          nn.Conv2d(32,32, 3, padding=1,stride=2), nn.ReLU(), # 2\n",
    "          nn.AdaptiveAvgPool2d(1),\n",
    "          nn.Flatten(),\n",
    "          )\n",
    "        \n",
    "        self.label = nn.Sequential(nn.Linear(32,10))\n",
    "        self.bbox = nn.Sequential(nn.Linear(32,4), nn.Sigmoid())\n",
    "        #self.output = (nn.Sequential(nn.Linear(32,10)), nn.Sequential(nn.Linear(32,4), nn.Sigmoid())) # (label, bbox)\n",
    "        \n",
    "    def forward(self, x):\n",
    "        features = self.backbone(x)\n",
    "        out = (self.label(features), self.bbox(features))\n",
    "        return out\n",
    "\n",
    "summary(Net(),(1,64,64),device=\"cpu\")"
   ]
  },
  {
   "cell_type": "code",
   "execution_count": 55,
   "metadata": {},
   "outputs": [],
   "source": [
    "def train(model, device, train_loader, optimizer, epoch, scheduler=None):\n",
    "    model.train()\n",
    "    loss_values_classification, loss_values_regression, total_loss = [], [], []\n",
    "    for batch_idx, sample_batched in enumerate(train_loader):\n",
    "        data = sample_batched['image']\n",
    "        target1 = sample_batched['label']\n",
    "        target2 = sample_batched['bbox']\n",
    "        data, target1, target2 = data.to(device), target1.to(device), target2.to(device)\n",
    "        optimizer.zero_grad()\n",
    "        output = model(data)\n",
    "        loss_classification = F.cross_entropy(output[0], target1)\n",
    "        loss_values_classification.append(loss_classification.detach().cpu())\n",
    "        \n",
    "        loss_regression = F.l1_loss(output[1], target2)\n",
    "        loss_values_regression.append(loss_regression.detach().cpu())\n",
    "        \n",
    "        total_loss.append(0.8*loss_regression.detach().cpu() + 0.2*loss_classification.detach().cpu())\n",
    "        \n",
    "        loss = 0.8*loss_regression + 0.2*loss_classification #com que la loss de la regressió és més petita l'augementem multiplicant-la per 8 per tal de que compti aproximadament el mateix que la de la classificació\n",
    "        \n",
    "        loss.backward()\n",
    "        optimizer.step()\n",
    "        #optimizer.zero_grad()\n",
    "        #loss_values.append(loss.detach().cpu())\n",
    "        if batch_idx % log_interval == 0:\n",
    "            print('Train Epoch: {} [{}/{} ({:.0f}%)]\\tLoss: {:.6f}'.format(\n",
    "                epoch, batch_idx * len(data), len(train_loader.dataset),\n",
    "                100. * batch_idx / len(train_loader), loss.item()))\n",
    "        if scheduler is not None:\n",
    "            scheduler.step()\n",
    "    return total_loss, loss_values_regression, loss_values_classification"
   ]
  },
  {
   "cell_type": "code",
   "execution_count": 56,
   "metadata": {
    "scrolled": false
   },
   "outputs": [
    {
     "name": "stdout",
     "output_type": "stream",
     "text": [
      "Train Epoch: 1 [0/60000 (0%)]\tLoss: 0.606186\n",
      "Train Epoch: 1 [6400/60000 (11%)]\tLoss: 0.536439\n",
      "Train Epoch: 1 [12800/60000 (21%)]\tLoss: 0.494686\n",
      "Train Epoch: 1 [19200/60000 (32%)]\tLoss: 0.423120\n",
      "Train Epoch: 1 [25600/60000 (43%)]\tLoss: 0.323502\n",
      "Train Epoch: 1 [32000/60000 (53%)]\tLoss: 0.344834\n",
      "Train Epoch: 1 [38400/60000 (64%)]\tLoss: 0.248654\n",
      "Train Epoch: 1 [44800/60000 (75%)]\tLoss: 0.353424\n",
      "Train Epoch: 1 [51200/60000 (85%)]\tLoss: 0.221143\n",
      "Train Epoch: 1 [57600/60000 (96%)]\tLoss: 0.279069\n",
      "Train Epoch: 2 [0/60000 (0%)]\tLoss: 0.204340\n",
      "Train Epoch: 2 [6400/60000 (11%)]\tLoss: 0.247827\n",
      "Train Epoch: 2 [12800/60000 (21%)]\tLoss: 0.249964\n",
      "Train Epoch: 2 [19200/60000 (32%)]\tLoss: 0.206640\n",
      "Train Epoch: 2 [25600/60000 (43%)]\tLoss: 0.252634\n",
      "Train Epoch: 2 [32000/60000 (53%)]\tLoss: 0.185515\n",
      "Train Epoch: 2 [38400/60000 (64%)]\tLoss: 0.150757\n",
      "Train Epoch: 2 [44800/60000 (75%)]\tLoss: 0.181686\n",
      "Train Epoch: 2 [51200/60000 (85%)]\tLoss: 0.170739\n",
      "Train Epoch: 2 [57600/60000 (96%)]\tLoss: 0.233938\n",
      "Train Epoch: 3 [0/60000 (0%)]\tLoss: 0.146278\n",
      "Train Epoch: 3 [6400/60000 (11%)]\tLoss: 0.209280\n",
      "Train Epoch: 3 [12800/60000 (21%)]\tLoss: 0.127555\n",
      "Train Epoch: 3 [19200/60000 (32%)]\tLoss: 0.171003\n",
      "Train Epoch: 3 [25600/60000 (43%)]\tLoss: 0.134688\n",
      "Train Epoch: 3 [32000/60000 (53%)]\tLoss: 0.210387\n",
      "Train Epoch: 3 [38400/60000 (64%)]\tLoss: 0.158341\n",
      "Train Epoch: 3 [44800/60000 (75%)]\tLoss: 0.119389\n",
      "Train Epoch: 3 [51200/60000 (85%)]\tLoss: 0.171458\n",
      "Train Epoch: 3 [57600/60000 (96%)]\tLoss: 0.141016\n",
      "Train Epoch: 4 [0/60000 (0%)]\tLoss: 0.175981\n",
      "Train Epoch: 4 [6400/60000 (11%)]\tLoss: 0.137798\n",
      "Train Epoch: 4 [12800/60000 (21%)]\tLoss: 0.141709\n",
      "Train Epoch: 4 [19200/60000 (32%)]\tLoss: 0.160437\n",
      "Train Epoch: 4 [25600/60000 (43%)]\tLoss: 0.148436\n",
      "Train Epoch: 4 [32000/60000 (53%)]\tLoss: 0.137660\n",
      "Train Epoch: 4 [38400/60000 (64%)]\tLoss: 0.146327\n",
      "Train Epoch: 4 [44800/60000 (75%)]\tLoss: 0.108186\n",
      "Train Epoch: 4 [51200/60000 (85%)]\tLoss: 0.138205\n",
      "Train Epoch: 4 [57600/60000 (96%)]\tLoss: 0.105492\n",
      "Train Epoch: 5 [0/60000 (0%)]\tLoss: 0.139918\n",
      "Train Epoch: 5 [6400/60000 (11%)]\tLoss: 0.158397\n",
      "Train Epoch: 5 [12800/60000 (21%)]\tLoss: 0.198528\n",
      "Train Epoch: 5 [19200/60000 (32%)]\tLoss: 0.138415\n",
      "Train Epoch: 5 [25600/60000 (43%)]\tLoss: 0.130200\n",
      "Train Epoch: 5 [32000/60000 (53%)]\tLoss: 0.122943\n",
      "Train Epoch: 5 [38400/60000 (64%)]\tLoss: 0.105012\n",
      "Train Epoch: 5 [44800/60000 (75%)]\tLoss: 0.116722\n",
      "Train Epoch: 5 [51200/60000 (85%)]\tLoss: 0.101868\n",
      "Train Epoch: 5 [57600/60000 (96%)]\tLoss: 0.121542\n"
     ]
    }
   ],
   "source": [
    "model = Net().to(device)\n",
    "\n",
    "lr = 1e-2\n",
    "optimizer = optim.Adam(model.parameters(), lr=lr)\n",
    "\n",
    "epochs = 5\n",
    "scheduler = optim.lr_scheduler.OneCycleLR(optimizer, lr, epochs=epochs, steps_per_epoch=len(train_loader))\n",
    "\n",
    "log_interval = 100 # how many batches to wait before logging training status\n",
    "\n",
    "loss_history, loss_regr, loss_class = [], [], []\n",
    "for epoch in range(1, epochs + 1):\n",
    "    total_loss_values, value_loss_regr, value_loss_class = train(model, device, train_loader, optimizer, epoch, scheduler)\n",
    "    loss_history += total_loss_values\n",
    "    loss_regr += value_loss_regr\n",
    "    loss_class += value_loss_class"
   ]
  },
  {
   "cell_type": "code",
   "execution_count": 58,
   "metadata": {},
   "outputs": [
    {
     "data": {
      "image/png": "[encoded data removed]",
      "text/plain": [
       "<Figure size 432x288 with 1 Axes>"
      ]
     },
     "metadata": {
      "needs_background": "light"
     },
     "output_type": "display_data"
    }
   ],
   "source": [
    "plt.plot(loss_history, label='Combined loss')\n",
    "plt.plot(loss_regr, label='Regression loss')\n",
    "plt.plot(loss_class, label='Classification loss')\n",
    "plt.legend()\n",
    "plt.show()"
   ]
  },
  {
   "cell_type": "markdown",
   "metadata": {
    "id": "UzTbQjW0ifgy"
   },
   "source": [
    "Finally, we will modify the test method with the objective to count as a correct output the correct prediction of the bounding box AND it's class label."
   ]
  },
  {
   "cell_type": "code",
   "execution_count": 71,
   "metadata": {
    "id": "Ma0cBDAKihOz"
   },
   "outputs": [
    {
     "name": "stdout",
     "output_type": "stream",
     "text": [
      "\n",
      "Test set: Average regression loss: 0.0237, Average classification loss: 0.5486, Average combined loss: 0.1286 Accuracy: 6962/10000 (70%)\n",
      "\n"
     ]
    }
   ],
   "source": [
    "# Add your code here\n",
    "def test(model, device, test_loader):\n",
    "    model.eval()\n",
    "    test_regr_loss = 0\n",
    "    test_class_loss = 0\n",
    "    test_total_loss = 0\n",
    "    correct = 0\n",
    "    with torch.no_grad():\n",
    "        for batch_idx, sample_batched in enumerate(test_loader):\n",
    "            data = sample_batched['image']\n",
    "            target1 = sample_batched['label']\n",
    "            target2 = sample_batched['bbox']\n",
    "            data, target1, target2 = data.to(device), target1.to(device), target2.to(device)\n",
    "            output = model(data)\n",
    "            a = F.l1_loss(output[1], target2).item()\n",
    "            test_regr_loss += a\n",
    "            b = F.cross_entropy(output[0], target1).item()\n",
    "            test_class_loss += b\n",
    "            test_total_loss += 0.8*a + 0.2*b\n",
    "            \n",
    "            \n",
    "            # count the number of prediction with an IoU above a certain threshold and a correct classification\n",
    "            correct += np.sum(np.argmax(output[0].cpu().numpy(), axis=1)==target1.cpu().numpy() * IoU(output[1].cpu().numpy(), target2.cpu().numpy(), iou_threshold = 0.7))\n",
    "\n",
    "    test_regr_loss /= (len(test_loader.dataset)/test_loader.batch_size)\n",
    "    test_class_loss /= (len(test_loader.dataset)/test_loader.batch_size)\n",
    "    test_total_loss /= (len(test_loader.dataset)/test_loader.batch_size)\n",
    "\n",
    "    print('\\nTest set: Average regression loss: {:.4f}, Average classification loss: {:.4f}, Average combined loss: {:.4f} Accuracy: {}/{} ({:.0f}%)\\n'.format(\n",
    "        test_regr_loss, test_class_loss, test_total_loss, correct, len(test_loader.dataset),\n",
    "        100. * correct / len(test_loader.dataset)))\n",
    "    \n",
    "\n",
    "# call the test method\n",
    "test(model, device, test_loader)"
   ]
  }
 ],
 "metadata": {
  "accelerator": "GPU",
  "colab": {
   "collapsed_sections": [],
   "name": "W11_01_CNN_ObjectLocalization(1).ipynb",
   "provenance": []
  },
  "kernelspec": {
   "display_name": "Python 3 (ipykernel)",
   "language": "python",
   "name": "python3"
  },
  "language_info": {
   "codemirror_mode": {
    "name": "ipython",
    "version": 3
   },
   "file_extension": ".py",
   "mimetype": "text/x-python",
   "name": "python",
   "nbconvert_exporter": "python",
   "pygments_lexer": "ipython3",
   "version": "3.9.7"
  },
  "widgets": {
   "application/vnd.jupyter.widget-state+json": {
    "074b9d2ba10146d188c187bda2aa1255": {
     "model_module": "@jupyter-widgets/controls",
     "model_module_version": "1.5.0",
     "model_name": "HBoxModel",
     "state": {
      "_dom_classes": [],
      "_model_module": "@jupyter-widgets/controls",
      "_model_module_version": "1.5.0",
      "_model_name": "HBoxModel",
      "_view_count": null,
      "_view_module": "@jupyter-widgets/controls",
      "_view_module_version": "1.5.0",
      "_view_name": "HBoxView",
      "box_style": "",
      "children": [
       "IPY_MODEL_8a596781851544238027c8d8a8bf6fc3",
       "IPY_MODEL_a3ddd19f612b4a318dd2af67cec0fd30",
       "IPY_MODEL_fb07891e381849eeb58f63d1887192b0"
      ],
      "layout": "IPY_MODEL_e47f9b5315524998a80488813423e528"
     }
    },
    "1438b6cae5b74fb581141d1c6afd112a": {
     "model_module": "@jupyter-widgets/base",
     "model_module_version": "1.2.0",
     "model_name": "LayoutModel",
     "state": {
      "_model_module": "@jupyter-widgets/base",
      "_model_module_version": "1.2.0",
      "_model_name": "LayoutModel",
      "_view_count": null,
      "_view_module": "@jupyter-widgets/base",
      "_view_module_version": "1.2.0",
      "_view_name": "LayoutView",
      "align_content": null,
      "align_items": null,
      "align_self": null,
      "border": null,
      "bottom": null,
      "display": null,
      "flex": null,
      "flex_flow": null,
      "grid_area": null,
      "grid_auto_columns": null,
      "grid_auto_flow": null,
      "grid_auto_rows": null,
      "grid_column": null,
      "grid_gap": null,
      "grid_row": null,
      "grid_template_areas": null,
      "grid_template_columns": null,
      "grid_template_rows": null,
      "height": null,
      "justify_content": null,
      "justify_items": null,
      "left": null,
      "margin": null,
      "max_height": null,
      "max_width": null,
      "min_height": null,
      "min_width": null,
      "object_fit": null,
      "object_position": null,
      "order": null,
      "overflow": null,
      "overflow_x": null,
      "overflow_y": null,
      "padding": null,
      "right": null,
      "top": null,
      "visibility": null,
      "width": null
     }
    },
    "14ebbb76c415482197b2b47473e667a5": {
     "model_module": "@jupyter-widgets/base",
     "model_module_version": "1.2.0",
     "model_name": "LayoutModel",
     "state": {
      "_model_module": "@jupyter-widgets/base",
      "_model_module_version": "1.2.0",
      "_model_name": "LayoutModel",
      "_view_count": null,
      "_view_module": "@jupyter-widgets/base",
      "_view_module_version": "1.2.0",
      "_view_name": "LayoutView",
      "align_content": null,
      "align_items": null,
      "align_self": null,
      "border": null,
      "bottom": null,
      "display": null,
      "flex": null,
      "flex_flow": null,
      "grid_area": null,
      "grid_auto_columns": null,
      "grid_auto_flow": null,
      "grid_auto_rows": null,
      "grid_column": null,
      "grid_gap": null,
      "grid_row": null,
      "grid_template_areas": null,
      "grid_template_columns": null,
      "grid_template_rows": null,
      "height": null,
      "justify_content": null,
      "justify_items": null,
      "left": null,
      "margin": null,
      "max_height": null,
      "max_width": null,
      "min_height": null,
      "min_width": null,
      "object_fit": null,
      "object_position": null,
      "order": null,
      "overflow": null,
      "overflow_x": null,
      "overflow_y": null,
      "padding": null,
      "right": null,
      "top": null,
      "visibility": null,
      "width": null
     }
    },
    "1560f90afc9849b99745bbed244fd437": {
     "model_module": "@jupyter-widgets/base",
     "model_module_version": "1.2.0",
     "model_name": "LayoutModel",
     "state": {
      "_model_module": "@jupyter-widgets/base",
      "_model_module_version": "1.2.0",
      "_model_name": "LayoutModel",
      "_view_count": null,
      "_view_module": "@jupyter-widgets/base",
      "_view_module_version": "1.2.0",
      "_view_name": "LayoutView",
      "align_content": null,
      "align_items": null,
      "align_self": null,
      "border": null,
      "bottom": null,
      "display": null,
      "flex": null,
      "flex_flow": null,
      "grid_area": null,
      "grid_auto_columns": null,
      "grid_auto_flow": null,
      "grid_auto_rows": null,
      "grid_column": null,
      "grid_gap": null,
      "grid_row": null,
      "grid_template_areas": null,
      "grid_template_columns": null,
      "grid_template_rows": null,
      "height": null,
      "justify_content": null,
      "justify_items": null,
      "left": null,
      "margin": null,
      "max_height": null,
      "max_width": null,
      "min_height": null,
      "min_width": null,
      "object_fit": null,
      "object_position": null,
      "order": null,
      "overflow": null,
      "overflow_x": null,
      "overflow_y": null,
      "padding": null,
      "right": null,
      "top": null,
      "visibility": null,
      "width": null
     }
    },
    "1992e8e9da9643908f69cfb1b7c9e5d6": {
     "model_module": "@jupyter-widgets/controls",
     "model_module_version": "1.5.0",
     "model_name": "ProgressStyleModel",
     "state": {
      "_model_module": "@jupyter-widgets/controls",
      "_model_module_version": "1.5.0",
      "_model_name": "ProgressStyleModel",
      "_view_count": null,
      "_view_module": "@jupyter-widgets/base",
      "_view_module_version": "1.2.0",
      "_view_name": "StyleView",
      "bar_color": null,
      "description_width": ""
     }
    },
    "1ccdbd4a498c4e96885c9e5bd686f4c2": {
     "model_module": "@jupyter-widgets/base",
     "model_module_version": "1.2.0",
     "model_name": "LayoutModel",
     "state": {
      "_model_module": "@jupyter-widgets/base",
      "_model_module_version": "1.2.0",
      "_model_name": "LayoutModel",
      "_view_count": null,
      "_view_module": "@jupyter-widgets/base",
      "_view_module_version": "1.2.0",
      "_view_name": "LayoutView",
      "align_content": null,
      "align_items": null,
      "align_self": null,
      "border": null,
      "bottom": null,
      "display": null,
      "flex": null,
      "flex_flow": null,
      "grid_area": null,
      "grid_auto_columns": null,
      "grid_auto_flow": null,
      "grid_auto_rows": null,
      "grid_column": null,
      "grid_gap": null,
      "grid_row": null,
      "grid_template_areas": null,
      "grid_template_columns": null,
      "grid_template_rows": null,
      "height": null,
      "justify_content": null,
      "justify_items": null,
      "left": null,
      "margin": null,
      "max_height": null,
      "max_width": null,
      "min_height": null,
      "min_width": null,
      "object_fit": null,
      "object_position": null,
      "order": null,
      "overflow": null,
      "overflow_x": null,
      "overflow_y": null,
      "padding": null,
      "right": null,
      "top": null,
      "visibility": null,
      "width": null
     }
    },
    "230335c3675c463abb988b33c735301a": {
     "model_module": "@jupyter-widgets/controls",
     "model_module_version": "1.5.0",
     "model_name": "DescriptionStyleModel",
     "state": {
      "_model_module": "@jupyter-widgets/controls",
      "_model_module_version": "1.5.0",
      "_model_name": "DescriptionStyleModel",
      "_view_count": null,
      "_view_module": "@jupyter-widgets/base",
      "_view_module_version": "1.2.0",
      "_view_name": "StyleView",
      "description_width": ""
     }
    },
    "3445961831a14d159950c188cb8b7354": {
     "model_module": "@jupyter-widgets/controls",
     "model_module_version": "1.5.0",
     "model_name": "HTMLModel",
     "state": {
      "_dom_classes": [],
      "_model_module": "@jupyter-widgets/controls",
      "_model_module_version": "1.5.0",
      "_model_name": "HTMLModel",
      "_view_count": null,
      "_view_module": "@jupyter-widgets/controls",
      "_view_module_version": "1.5.0",
      "_view_name": "HTMLView",
      "description": "",
      "description_tooltip": null,
      "layout": "IPY_MODEL_7d2d5483f8a641ce8af136ada779afe1",
      "placeholder": "​",
      "style": "IPY_MODEL_a4352eeadccb4d63b15b37a19f0e371d",
      "value": " 26422272/? [00:00&lt;00:00, 71790690.43it/s]"
     }
    },
    "437e49af3b4e4c2aa198123401493b68": {
     "model_module": "@jupyter-widgets/base",
     "model_module_version": "1.2.0",
     "model_name": "LayoutModel",
     "state": {
      "_model_module": "@jupyter-widgets/base",
      "_model_module_version": "1.2.0",
      "_model_name": "LayoutModel",
      "_view_count": null,
      "_view_module": "@jupyter-widgets/base",
      "_view_module_version": "1.2.0",
      "_view_name": "LayoutView",
      "align_content": null,
      "align_items": null,
      "align_self": null,
      "border": null,
      "bottom": null,
      "display": null,
      "flex": null,
      "flex_flow": null,
      "grid_area": null,
      "grid_auto_columns": null,
      "grid_auto_flow": null,
      "grid_auto_rows": null,
      "grid_column": null,
      "grid_gap": null,
      "grid_row": null,
      "grid_template_areas": null,
      "grid_template_columns": null,
      "grid_template_rows": null,
      "height": null,
      "justify_content": null,
      "justify_items": null,
      "left": null,
      "margin": null,
      "max_height": null,
      "max_width": null,
      "min_height": null,
      "min_width": null,
      "object_fit": null,
      "object_position": null,
      "order": null,
      "overflow": null,
      "overflow_x": null,
      "overflow_y": null,
      "padding": null,
      "right": null,
      "top": null,
      "visibility": null,
      "width": null
     }
    },
    "43c269bfa85843efb0c5159612f9569a": {
     "model_module": "@jupyter-widgets/controls",
     "model_module_version": "1.5.0",
     "model_name": "HTMLModel",
     "state": {
      "_dom_classes": [],
      "_model_module": "@jupyter-widgets/controls",
      "_model_module_version": "1.5.0",
      "_model_name": "HTMLModel",
      "_view_count": null,
      "_view_module": "@jupyter-widgets/controls",
      "_view_module_version": "1.5.0",
      "_view_name": "HTMLView",
      "description": "",
      "description_tooltip": null,
      "layout": "IPY_MODEL_14ebbb76c415482197b2b47473e667a5",
      "placeholder": "​",
      "style": "IPY_MODEL_a371a65e1b71416fbcd621dbfcbcb9ed",
      "value": " 29696/? [00:00&lt;00:00, 783151.94it/s]"
     }
    },
    "4b5237872e364b5f9b0f256f247f5e4b": {
     "model_module": "@jupyter-widgets/controls",
     "model_module_version": "1.5.0",
     "model_name": "FloatProgressModel",
     "state": {
      "_dom_classes": [],
      "_model_module": "@jupyter-widgets/controls",
      "_model_module_version": "1.5.0",
      "_model_name": "FloatProgressModel",
      "_view_count": null,
      "_view_module": "@jupyter-widgets/controls",
      "_view_module_version": "1.5.0",
      "_view_name": "ProgressView",
      "bar_style": "success",
      "description": "",
      "description_tooltip": null,
      "layout": "IPY_MODEL_1560f90afc9849b99745bbed244fd437",
      "max": 4422102,
      "min": 0,
      "orientation": "horizontal",
      "style": "IPY_MODEL_ca7f4972f7b549b7a137b519b43b9ec9",
      "value": 4422102
     }
    },
    "5077fc23e8a244108b84c1e73ffa277c": {
     "model_module": "@jupyter-widgets/controls",
     "model_module_version": "1.5.0",
     "model_name": "HTMLModel",
     "state": {
      "_dom_classes": [],
      "_model_module": "@jupyter-widgets/controls",
      "_model_module_version": "1.5.0",
      "_model_name": "HTMLModel",
      "_view_count": null,
      "_view_module": "@jupyter-widgets/controls",
      "_view_module_version": "1.5.0",
      "_view_name": "HTMLView",
      "description": "",
      "description_tooltip": null,
      "layout": "IPY_MODEL_1438b6cae5b74fb581141d1c6afd112a",
      "placeholder": "​",
      "style": "IPY_MODEL_759d1c19c443464780ed03196baac201",
      "value": ""
     }
    },
    "59aeda1a4c94483baffd894250377b7c": {
     "model_module": "@jupyter-widgets/controls",
     "model_module_version": "1.5.0",
     "model_name": "FloatProgressModel",
     "state": {
      "_dom_classes": [],
      "_model_module": "@jupyter-widgets/controls",
      "_model_module_version": "1.5.0",
      "_model_name": "FloatProgressModel",
      "_view_count": null,
      "_view_module": "@jupyter-widgets/controls",
      "_view_module_version": "1.5.0",
      "_view_name": "ProgressView",
      "bar_style": "success",
      "description": "",
      "description_tooltip": null,
      "layout": "IPY_MODEL_f23a5b23d8a643d68ec6dd74148dd046",
      "max": 29515,
      "min": 0,
      "orientation": "horizontal",
      "style": "IPY_MODEL_d0334b883d544084b5b6a5cbe2b6907d",
      "value": 29515
     }
    },
    "641f288b940d4749bf392ec8f364c826": {
     "model_module": "@jupyter-widgets/base",
     "model_module_version": "1.2.0",
     "model_name": "LayoutModel",
     "state": {
      "_model_module": "@jupyter-widgets/base",
      "_model_module_version": "1.2.0",
      "_model_name": "LayoutModel",
      "_view_count": null,
      "_view_module": "@jupyter-widgets/base",
      "_view_module_version": "1.2.0",
      "_view_name": "LayoutView",
      "align_content": null,
      "align_items": null,
      "align_self": null,
      "border": null,
      "bottom": null,
      "display": null,
      "flex": null,
      "flex_flow": null,
      "grid_area": null,
      "grid_auto_columns": null,
      "grid_auto_flow": null,
      "grid_auto_rows": null,
      "grid_column": null,
      "grid_gap": null,
      "grid_row": null,
      "grid_template_areas": null,
      "grid_template_columns": null,
      "grid_template_rows": null,
      "height": null,
      "justify_content": null,
      "justify_items": null,
      "left": null,
      "margin": null,
      "max_height": null,
      "max_width": null,
      "min_height": null,
      "min_width": null,
      "object_fit": null,
      "object_position": null,
      "order": null,
      "overflow": null,
      "overflow_x": null,
      "overflow_y": null,
      "padding": null,
      "right": null,
      "top": null,
      "visibility": null,
      "width": null
     }
    },
    "6d9988305b554f2593e81de1de6d6921": {
     "model_module": "@jupyter-widgets/controls",
     "model_module_version": "1.5.0",
     "model_name": "FloatProgressModel",
     "state": {
      "_dom_classes": [],
      "_model_module": "@jupyter-widgets/controls",
      "_model_module_version": "1.5.0",
      "_model_name": "FloatProgressModel",
      "_view_count": null,
      "_view_module": "@jupyter-widgets/controls",
      "_view_module_version": "1.5.0",
      "_view_name": "ProgressView",
      "bar_style": "success",
      "description": "",
      "description_tooltip": null,
      "layout": "IPY_MODEL_d65488b075b04626b36d8a0937d35edc",
      "max": 26421880,
      "min": 0,
      "orientation": "horizontal",
      "style": "IPY_MODEL_1992e8e9da9643908f69cfb1b7c9e5d6",
      "value": 26421880
     }
    },
    "71006eeaf72f4f6ab4a3b97fdf023588": {
     "model_module": "@jupyter-widgets/controls",
     "model_module_version": "1.5.0",
     "model_name": "HBoxModel",
     "state": {
      "_dom_classes": [],
      "_model_module": "@jupyter-widgets/controls",
      "_model_module_version": "1.5.0",
      "_model_name": "HBoxModel",
      "_view_count": null,
      "_view_module": "@jupyter-widgets/controls",
      "_view_module_version": "1.5.0",
      "_view_name": "HBoxView",
      "box_style": "",
      "children": [
       "IPY_MODEL_eb524a3e28ef463d9b5a7afc3db00207",
       "IPY_MODEL_6d9988305b554f2593e81de1de6d6921",
       "IPY_MODEL_3445961831a14d159950c188cb8b7354"
      ],
      "layout": "IPY_MODEL_437e49af3b4e4c2aa198123401493b68"
     }
    },
    "759d1c19c443464780ed03196baac201": {
     "model_module": "@jupyter-widgets/controls",
     "model_module_version": "1.5.0",
     "model_name": "DescriptionStyleModel",
     "state": {
      "_model_module": "@jupyter-widgets/controls",
      "_model_module_version": "1.5.0",
      "_model_name": "DescriptionStyleModel",
      "_view_count": null,
      "_view_module": "@jupyter-widgets/base",
      "_view_module_version": "1.2.0",
      "_view_name": "StyleView",
      "description_width": ""
     }
    },
    "7d2d5483f8a641ce8af136ada779afe1": {
     "model_module": "@jupyter-widgets/base",
     "model_module_version": "1.2.0",
     "model_name": "LayoutModel",
     "state": {
      "_model_module": "@jupyter-widgets/base",
      "_model_module_version": "1.2.0",
      "_model_name": "LayoutModel",
      "_view_count": null,
      "_view_module": "@jupyter-widgets/base",
      "_view_module_version": "1.2.0",
      "_view_name": "LayoutView",
      "align_content": null,
      "align_items": null,
      "align_self": null,
      "border": null,
      "bottom": null,
      "display": null,
      "flex": null,
      "flex_flow": null,
      "grid_area": null,
      "grid_auto_columns": null,
      "grid_auto_flow": null,
      "grid_auto_rows": null,
      "grid_column": null,
      "grid_gap": null,
      "grid_row": null,
      "grid_template_areas": null,
      "grid_template_columns": null,
      "grid_template_rows": null,
      "height": null,
      "justify_content": null,
      "justify_items": null,
      "left": null,
      "margin": null,
      "max_height": null,
      "max_width": null,
      "min_height": null,
      "min_width": null,
      "object_fit": null,
      "object_position": null,
      "order": null,
      "overflow": null,
      "overflow_x": null,
      "overflow_y": null,
      "padding": null,
      "right": null,
      "top": null,
      "visibility": null,
      "width": null
     }
    },
    "8a547b554344452e977de255dd0758a7": {
     "model_module": "@jupyter-widgets/controls",
     "model_module_version": "1.5.0",
     "model_name": "HTMLModel",
     "state": {
      "_dom_classes": [],
      "_model_module": "@jupyter-widgets/controls",
      "_model_module_version": "1.5.0",
      "_model_name": "HTMLModel",
      "_view_count": null,
      "_view_module": "@jupyter-widgets/controls",
      "_view_module_version": "1.5.0",
      "_view_name": "HTMLView",
      "description": "",
      "description_tooltip": null,
      "layout": "IPY_MODEL_b51e51e1e0974e87a6e59fccf1a59354",
      "placeholder": "​",
      "style": "IPY_MODEL_eb13aa8b0e3f4351a8bf1c5e8fce4ce4",
      "value": " 4422656/? [00:00&lt;00:00, 14243446.08it/s]"
     }
    },
    "8a596781851544238027c8d8a8bf6fc3": {
     "model_module": "@jupyter-widgets/controls",
     "model_module_version": "1.5.0",
     "model_name": "HTMLModel",
     "state": {
      "_dom_classes": [],
      "_model_module": "@jupyter-widgets/controls",
      "_model_module_version": "1.5.0",
      "_model_name": "HTMLModel",
      "_view_count": null,
      "_view_module": "@jupyter-widgets/controls",
      "_view_module_version": "1.5.0",
      "_view_name": "HTMLView",
      "description": "",
      "description_tooltip": null,
      "layout": "IPY_MODEL_b0a543b0fa534b7aa1ba37a82dece461",
      "placeholder": "​",
      "style": "IPY_MODEL_d1d54732acc3463f8e6ce091cde7f4e2",
      "value": ""
     }
    },
    "9974119455d747b192efea84b186e8f6": {
     "model_module": "@jupyter-widgets/base",
     "model_module_version": "1.2.0",
     "model_name": "LayoutModel",
     "state": {
      "_model_module": "@jupyter-widgets/base",
      "_model_module_version": "1.2.0",
      "_model_name": "LayoutModel",
      "_view_count": null,
      "_view_module": "@jupyter-widgets/base",
      "_view_module_version": "1.2.0",
      "_view_name": "LayoutView",
      "align_content": null,
      "align_items": null,
      "align_self": null,
      "border": null,
      "bottom": null,
      "display": null,
      "flex": null,
      "flex_flow": null,
      "grid_area": null,
      "grid_auto_columns": null,
      "grid_auto_flow": null,
      "grid_auto_rows": null,
      "grid_column": null,
      "grid_gap": null,
      "grid_row": null,
      "grid_template_areas": null,
      "grid_template_columns": null,
      "grid_template_rows": null,
      "height": null,
      "justify_content": null,
      "justify_items": null,
      "left": null,
      "margin": null,
      "max_height": null,
      "max_width": null,
      "min_height": null,
      "min_width": null,
      "object_fit": null,
      "object_position": null,
      "order": null,
      "overflow": null,
      "overflow_x": null,
      "overflow_y": null,
      "padding": null,
      "right": null,
      "top": null,
      "visibility": null,
      "width": null
     }
    },
    "a371a65e1b71416fbcd621dbfcbcb9ed": {
     "model_module": "@jupyter-widgets/controls",
     "model_module_version": "1.5.0",
     "model_name": "DescriptionStyleModel",
     "state": {
      "_model_module": "@jupyter-widgets/controls",
      "_model_module_version": "1.5.0",
      "_model_name": "DescriptionStyleModel",
      "_view_count": null,
      "_view_module": "@jupyter-widgets/base",
      "_view_module_version": "1.2.0",
      "_view_name": "StyleView",
      "description_width": ""
     }
    },
    "a3ddd19f612b4a318dd2af67cec0fd30": {
     "model_module": "@jupyter-widgets/controls",
     "model_module_version": "1.5.0",
     "model_name": "FloatProgressModel",
     "state": {
      "_dom_classes": [],
      "_model_module": "@jupyter-widgets/controls",
      "_model_module_version": "1.5.0",
      "_model_name": "FloatProgressModel",
      "_view_count": null,
      "_view_module": "@jupyter-widgets/controls",
      "_view_module_version": "1.5.0",
      "_view_name": "ProgressView",
      "bar_style": "success",
      "description": "",
      "description_tooltip": null,
      "layout": "IPY_MODEL_c0c354bfb3c74472ad1bace11fd0cedb",
      "max": 5148,
      "min": 0,
      "orientation": "horizontal",
      "style": "IPY_MODEL_af6730d4d13048c4bd4c3f0dee59b92a",
      "value": 5148
     }
    },
    "a4352eeadccb4d63b15b37a19f0e371d": {
     "model_module": "@jupyter-widgets/controls",
     "model_module_version": "1.5.0",
     "model_name": "DescriptionStyleModel",
     "state": {
      "_model_module": "@jupyter-widgets/controls",
      "_model_module_version": "1.5.0",
      "_model_name": "DescriptionStyleModel",
      "_view_count": null,
      "_view_module": "@jupyter-widgets/base",
      "_view_module_version": "1.2.0",
      "_view_name": "StyleView",
      "description_width": ""
     }
    },
    "a715cbd51da340e296a6afd518622797": {
     "model_module": "@jupyter-widgets/controls",
     "model_module_version": "1.5.0",
     "model_name": "HTMLModel",
     "state": {
      "_dom_classes": [],
      "_model_module": "@jupyter-widgets/controls",
      "_model_module_version": "1.5.0",
      "_model_name": "HTMLModel",
      "_view_count": null,
      "_view_module": "@jupyter-widgets/controls",
      "_view_module_version": "1.5.0",
      "_view_name": "HTMLView",
      "description": "",
      "description_tooltip": null,
      "layout": "IPY_MODEL_b3e9249aec0844af95be9f151cb1636d",
      "placeholder": "​",
      "style": "IPY_MODEL_c338f19a55714700994a47aefc3140b2",
      "value": ""
     }
    },
    "aeab1d85d16b45a88f4cfc1cec48ef4e": {
     "model_module": "@jupyter-widgets/controls",
     "model_module_version": "1.5.0",
     "model_name": "HBoxModel",
     "state": {
      "_dom_classes": [],
      "_model_module": "@jupyter-widgets/controls",
      "_model_module_version": "1.5.0",
      "_model_name": "HBoxModel",
      "_view_count": null,
      "_view_module": "@jupyter-widgets/controls",
      "_view_module_version": "1.5.0",
      "_view_name": "HBoxView",
      "box_style": "",
      "children": [
       "IPY_MODEL_5077fc23e8a244108b84c1e73ffa277c",
       "IPY_MODEL_59aeda1a4c94483baffd894250377b7c",
       "IPY_MODEL_43c269bfa85843efb0c5159612f9569a"
      ],
      "layout": "IPY_MODEL_9974119455d747b192efea84b186e8f6"
     }
    },
    "af6730d4d13048c4bd4c3f0dee59b92a": {
     "model_module": "@jupyter-widgets/controls",
     "model_module_version": "1.5.0",
     "model_name": "ProgressStyleModel",
     "state": {
      "_model_module": "@jupyter-widgets/controls",
      "_model_module_version": "1.5.0",
      "_model_name": "ProgressStyleModel",
      "_view_count": null,
      "_view_module": "@jupyter-widgets/base",
      "_view_module_version": "1.2.0",
      "_view_name": "StyleView",
      "bar_color": null,
      "description_width": ""
     }
    },
    "b0a543b0fa534b7aa1ba37a82dece461": {
     "model_module": "@jupyter-widgets/base",
     "model_module_version": "1.2.0",
     "model_name": "LayoutModel",
     "state": {
      "_model_module": "@jupyter-widgets/base",
      "_model_module_version": "1.2.0",
      "_model_name": "LayoutModel",
      "_view_count": null,
      "_view_module": "@jupyter-widgets/base",
      "_view_module_version": "1.2.0",
      "_view_name": "LayoutView",
      "align_content": null,
      "align_items": null,
      "align_self": null,
      "border": null,
      "bottom": null,
      "display": null,
      "flex": null,
      "flex_flow": null,
      "grid_area": null,
      "grid_auto_columns": null,
      "grid_auto_flow": null,
      "grid_auto_rows": null,
      "grid_column": null,
      "grid_gap": null,
      "grid_row": null,
      "grid_template_areas": null,
      "grid_template_columns": null,
      "grid_template_rows": null,
      "height": null,
      "justify_content": null,
      "justify_items": null,
      "left": null,
      "margin": null,
      "max_height": null,
      "max_width": null,
      "min_height": null,
      "min_width": null,
      "object_fit": null,
      "object_position": null,
      "order": null,
      "overflow": null,
      "overflow_x": null,
      "overflow_y": null,
      "padding": null,
      "right": null,
      "top": null,
      "visibility": null,
      "width": null
     }
    },
    "b3e9249aec0844af95be9f151cb1636d": {
     "model_module": "@jupyter-widgets/base",
     "model_module_version": "1.2.0",
     "model_name": "LayoutModel",
     "state": {
      "_model_module": "@jupyter-widgets/base",
      "_model_module_version": "1.2.0",
      "_model_name": "LayoutModel",
      "_view_count": null,
      "_view_module": "@jupyter-widgets/base",
      "_view_module_version": "1.2.0",
      "_view_name": "LayoutView",
      "align_content": null,
      "align_items": null,
      "align_self": null,
      "border": null,
      "bottom": null,
      "display": null,
      "flex": null,
      "flex_flow": null,
      "grid_area": null,
      "grid_auto_columns": null,
      "grid_auto_flow": null,
      "grid_auto_rows": null,
      "grid_column": null,
      "grid_gap": null,
      "grid_row": null,
      "grid_template_areas": null,
      "grid_template_columns": null,
      "grid_template_rows": null,
      "height": null,
      "justify_content": null,
      "justify_items": null,
      "left": null,
      "margin": null,
      "max_height": null,
      "max_width": null,
      "min_height": null,
      "min_width": null,
      "object_fit": null,
      "object_position": null,
      "order": null,
      "overflow": null,
      "overflow_x": null,
      "overflow_y": null,
      "padding": null,
      "right": null,
      "top": null,
      "visibility": null,
      "width": null
     }
    },
    "b51e51e1e0974e87a6e59fccf1a59354": {
     "model_module": "@jupyter-widgets/base",
     "model_module_version": "1.2.0",
     "model_name": "LayoutModel",
     "state": {
      "_model_module": "@jupyter-widgets/base",
      "_model_module_version": "1.2.0",
      "_model_name": "LayoutModel",
      "_view_count": null,
      "_view_module": "@jupyter-widgets/base",
      "_view_module_version": "1.2.0",
      "_view_name": "LayoutView",
      "align_content": null,
      "align_items": null,
      "align_self": null,
      "border": null,
      "bottom": null,
      "display": null,
      "flex": null,
      "flex_flow": null,
      "grid_area": null,
      "grid_auto_columns": null,
      "grid_auto_flow": null,
      "grid_auto_rows": null,
      "grid_column": null,
      "grid_gap": null,
      "grid_row": null,
      "grid_template_areas": null,
      "grid_template_columns": null,
      "grid_template_rows": null,
      "height": null,
      "justify_content": null,
      "justify_items": null,
      "left": null,
      "margin": null,
      "max_height": null,
      "max_width": null,
      "min_height": null,
      "min_width": null,
      "object_fit": null,
      "object_position": null,
      "order": null,
      "overflow": null,
      "overflow_x": null,
      "overflow_y": null,
      "padding": null,
      "right": null,
      "top": null,
      "visibility": null,
      "width": null
     }
    },
    "c0c354bfb3c74472ad1bace11fd0cedb": {
     "model_module": "@jupyter-widgets/base",
     "model_module_version": "1.2.0",
     "model_name": "LayoutModel",
     "state": {
      "_model_module": "@jupyter-widgets/base",
      "_model_module_version": "1.2.0",
      "_model_name": "LayoutModel",
      "_view_count": null,
      "_view_module": "@jupyter-widgets/base",
      "_view_module_version": "1.2.0",
      "_view_name": "LayoutView",
      "align_content": null,
      "align_items": null,
      "align_self": null,
      "border": null,
      "bottom": null,
      "display": null,
      "flex": null,
      "flex_flow": null,
      "grid_area": null,
      "grid_auto_columns": null,
      "grid_auto_flow": null,
      "grid_auto_rows": null,
      "grid_column": null,
      "grid_gap": null,
      "grid_row": null,
      "grid_template_areas": null,
      "grid_template_columns": null,
      "grid_template_rows": null,
      "height": null,
      "justify_content": null,
      "justify_items": null,
      "left": null,
      "margin": null,
      "max_height": null,
      "max_width": null,
      "min_height": null,
      "min_width": null,
      "object_fit": null,
      "object_position": null,
      "order": null,
      "overflow": null,
      "overflow_x": null,
      "overflow_y": null,
      "padding": null,
      "right": null,
      "top": null,
      "visibility": null,
      "width": null
     }
    },
    "c338f19a55714700994a47aefc3140b2": {
     "model_module": "@jupyter-widgets/controls",
     "model_module_version": "1.5.0",
     "model_name": "DescriptionStyleModel",
     "state": {
      "_model_module": "@jupyter-widgets/controls",
      "_model_module_version": "1.5.0",
      "_model_name": "DescriptionStyleModel",
      "_view_count": null,
      "_view_module": "@jupyter-widgets/base",
      "_view_module_version": "1.2.0",
      "_view_name": "StyleView",
      "description_width": ""
     }
    },
    "ca7f4972f7b549b7a137b519b43b9ec9": {
     "model_module": "@jupyter-widgets/controls",
     "model_module_version": "1.5.0",
     "model_name": "ProgressStyleModel",
     "state": {
      "_model_module": "@jupyter-widgets/controls",
      "_model_module_version": "1.5.0",
      "_model_name": "ProgressStyleModel",
      "_view_count": null,
      "_view_module": "@jupyter-widgets/base",
      "_view_module_version": "1.2.0",
      "_view_name": "StyleView",
      "bar_color": null,
      "description_width": ""
     }
    },
    "cd35d0edcff34f8780a36aa2b91dd373": {
     "model_module": "@jupyter-widgets/base",
     "model_module_version": "1.2.0",
     "model_name": "LayoutModel",
     "state": {
      "_model_module": "@jupyter-widgets/base",
      "_model_module_version": "1.2.0",
      "_model_name": "LayoutModel",
      "_view_count": null,
      "_view_module": "@jupyter-widgets/base",
      "_view_module_version": "1.2.0",
      "_view_name": "LayoutView",
      "align_content": null,
      "align_items": null,
      "align_self": null,
      "border": null,
      "bottom": null,
      "display": null,
      "flex": null,
      "flex_flow": null,
      "grid_area": null,
      "grid_auto_columns": null,
      "grid_auto_flow": null,
      "grid_auto_rows": null,
      "grid_column": null,
      "grid_gap": null,
      "grid_row": null,
      "grid_template_areas": null,
      "grid_template_columns": null,
      "grid_template_rows": null,
      "height": null,
      "justify_content": null,
      "justify_items": null,
      "left": null,
      "margin": null,
      "max_height": null,
      "max_width": null,
      "min_height": null,
      "min_width": null,
      "object_fit": null,
      "object_position": null,
      "order": null,
      "overflow": null,
      "overflow_x": null,
      "overflow_y": null,
      "padding": null,
      "right": null,
      "top": null,
      "visibility": null,
      "width": null
     }
    },
    "d0334b883d544084b5b6a5cbe2b6907d": {
     "model_module": "@jupyter-widgets/controls",
     "model_module_version": "1.5.0",
     "model_name": "ProgressStyleModel",
     "state": {
      "_model_module": "@jupyter-widgets/controls",
      "_model_module_version": "1.5.0",
      "_model_name": "ProgressStyleModel",
      "_view_count": null,
      "_view_module": "@jupyter-widgets/base",
      "_view_module_version": "1.2.0",
      "_view_name": "StyleView",
      "bar_color": null,
      "description_width": ""
     }
    },
    "d1d54732acc3463f8e6ce091cde7f4e2": {
     "model_module": "@jupyter-widgets/controls",
     "model_module_version": "1.5.0",
     "model_name": "DescriptionStyleModel",
     "state": {
      "_model_module": "@jupyter-widgets/controls",
      "_model_module_version": "1.5.0",
      "_model_name": "DescriptionStyleModel",
      "_view_count": null,
      "_view_module": "@jupyter-widgets/base",
      "_view_module_version": "1.2.0",
      "_view_name": "StyleView",
      "description_width": ""
     }
    },
    "d65488b075b04626b36d8a0937d35edc": {
     "model_module": "@jupyter-widgets/base",
     "model_module_version": "1.2.0",
     "model_name": "LayoutModel",
     "state": {
      "_model_module": "@jupyter-widgets/base",
      "_model_module_version": "1.2.0",
      "_model_name": "LayoutModel",
      "_view_count": null,
      "_view_module": "@jupyter-widgets/base",
      "_view_module_version": "1.2.0",
      "_view_name": "LayoutView",
      "align_content": null,
      "align_items": null,
      "align_self": null,
      "border": null,
      "bottom": null,
      "display": null,
      "flex": null,
      "flex_flow": null,
      "grid_area": null,
      "grid_auto_columns": null,
      "grid_auto_flow": null,
      "grid_auto_rows": null,
      "grid_column": null,
      "grid_gap": null,
      "grid_row": null,
      "grid_template_areas": null,
      "grid_template_columns": null,
      "grid_template_rows": null,
      "height": null,
      "justify_content": null,
      "justify_items": null,
      "left": null,
      "margin": null,
      "max_height": null,
      "max_width": null,
      "min_height": null,
      "min_width": null,
      "object_fit": null,
      "object_position": null,
      "order": null,
      "overflow": null,
      "overflow_x": null,
      "overflow_y": null,
      "padding": null,
      "right": null,
      "top": null,
      "visibility": null,
      "width": null
     }
    },
    "e47f9b5315524998a80488813423e528": {
     "model_module": "@jupyter-widgets/base",
     "model_module_version": "1.2.0",
     "model_name": "LayoutModel",
     "state": {
      "_model_module": "@jupyter-widgets/base",
      "_model_module_version": "1.2.0",
      "_model_name": "LayoutModel",
      "_view_count": null,
      "_view_module": "@jupyter-widgets/base",
      "_view_module_version": "1.2.0",
      "_view_name": "LayoutView",
      "align_content": null,
      "align_items": null,
      "align_self": null,
      "border": null,
      "bottom": null,
      "display": null,
      "flex": null,
      "flex_flow": null,
      "grid_area": null,
      "grid_auto_columns": null,
      "grid_auto_flow": null,
      "grid_auto_rows": null,
      "grid_column": null,
      "grid_gap": null,
      "grid_row": null,
      "grid_template_areas": null,
      "grid_template_columns": null,
      "grid_template_rows": null,
      "height": null,
      "justify_content": null,
      "justify_items": null,
      "left": null,
      "margin": null,
      "max_height": null,
      "max_width": null,
      "min_height": null,
      "min_width": null,
      "object_fit": null,
      "object_position": null,
      "order": null,
      "overflow": null,
      "overflow_x": null,
      "overflow_y": null,
      "padding": null,
      "right": null,
      "top": null,
      "visibility": null,
      "width": null
     }
    },
    "ea9233bc68004ef9bb107f2fd5e9d853": {
     "model_module": "@jupyter-widgets/controls",
     "model_module_version": "1.5.0",
     "model_name": "DescriptionStyleModel",
     "state": {
      "_model_module": "@jupyter-widgets/controls",
      "_model_module_version": "1.5.0",
      "_model_name": "DescriptionStyleModel",
      "_view_count": null,
      "_view_module": "@jupyter-widgets/base",
      "_view_module_version": "1.2.0",
      "_view_name": "StyleView",
      "description_width": ""
     }
    },
    "eb13aa8b0e3f4351a8bf1c5e8fce4ce4": {
     "model_module": "@jupyter-widgets/controls",
     "model_module_version": "1.5.0",
     "model_name": "DescriptionStyleModel",
     "state": {
      "_model_module": "@jupyter-widgets/controls",
      "_model_module_version": "1.5.0",
      "_model_name": "DescriptionStyleModel",
      "_view_count": null,
      "_view_module": "@jupyter-widgets/base",
      "_view_module_version": "1.2.0",
      "_view_name": "StyleView",
      "description_width": ""
     }
    },
    "eb524a3e28ef463d9b5a7afc3db00207": {
     "model_module": "@jupyter-widgets/controls",
     "model_module_version": "1.5.0",
     "model_name": "HTMLModel",
     "state": {
      "_dom_classes": [],
      "_model_module": "@jupyter-widgets/controls",
      "_model_module_version": "1.5.0",
      "_model_name": "HTMLModel",
      "_view_count": null,
      "_view_module": "@jupyter-widgets/controls",
      "_view_module_version": "1.5.0",
      "_view_name": "HTMLView",
      "description": "",
      "description_tooltip": null,
      "layout": "IPY_MODEL_1ccdbd4a498c4e96885c9e5bd686f4c2",
      "placeholder": "​",
      "style": "IPY_MODEL_230335c3675c463abb988b33c735301a",
      "value": ""
     }
    },
    "f23a5b23d8a643d68ec6dd74148dd046": {
     "model_module": "@jupyter-widgets/base",
     "model_module_version": "1.2.0",
     "model_name": "LayoutModel",
     "state": {
      "_model_module": "@jupyter-widgets/base",
      "_model_module_version": "1.2.0",
      "_model_name": "LayoutModel",
      "_view_count": null,
      "_view_module": "@jupyter-widgets/base",
      "_view_module_version": "1.2.0",
      "_view_name": "LayoutView",
      "align_content": null,
      "align_items": null,
      "align_self": null,
      "border": null,
      "bottom": null,
      "display": null,
      "flex": null,
      "flex_flow": null,
      "grid_area": null,
      "grid_auto_columns": null,
      "grid_auto_flow": null,
      "grid_auto_rows": null,
      "grid_column": null,
      "grid_gap": null,
      "grid_row": null,
      "grid_template_areas": null,
      "grid_template_columns": null,
      "grid_template_rows": null,
      "height": null,
      "justify_content": null,
      "justify_items": null,
      "left": null,
      "margin": null,
      "max_height": null,
      "max_width": null,
      "min_height": null,
      "min_width": null,
      "object_fit": null,
      "object_position": null,
      "order": null,
      "overflow": null,
      "overflow_x": null,
      "overflow_y": null,
      "padding": null,
      "right": null,
      "top": null,
      "visibility": null,
      "width": null
     }
    },
    "f639258418b643a39bc16e1be2041a07": {
     "model_module": "@jupyter-widgets/controls",
     "model_module_version": "1.5.0",
     "model_name": "HBoxModel",
     "state": {
      "_dom_classes": [],
      "_model_module": "@jupyter-widgets/controls",
      "_model_module_version": "1.5.0",
      "_model_name": "HBoxModel",
      "_view_count": null,
      "_view_module": "@jupyter-widgets/controls",
      "_view_module_version": "1.5.0",
      "_view_name": "HBoxView",
      "box_style": "",
      "children": [
       "IPY_MODEL_a715cbd51da340e296a6afd518622797",
       "IPY_MODEL_4b5237872e364b5f9b0f256f247f5e4b",
       "IPY_MODEL_8a547b554344452e977de255dd0758a7"
      ],
      "layout": "IPY_MODEL_cd35d0edcff34f8780a36aa2b91dd373"
     }
    },
    "fb07891e381849eeb58f63d1887192b0": {
     "model_module": "@jupyter-widgets/controls",
     "model_module_version": "1.5.0",
     "model_name": "HTMLModel",
     "state": {
      "_dom_classes": [],
      "_model_module": "@jupyter-widgets/controls",
      "_model_module_version": "1.5.0",
      "_model_name": "HTMLModel",
      "_view_count": null,
      "_view_module": "@jupyter-widgets/controls",
      "_view_module_version": "1.5.0",
      "_view_name": "HTMLView",
      "description": "",
      "description_tooltip": null,
      "layout": "IPY_MODEL_641f288b940d4749bf392ec8f364c826",
      "placeholder": "​",
      "style": "IPY_MODEL_ea9233bc68004ef9bb107f2fd5e9d853",
      "value": " 6144/? [00:00&lt;00:00, 157269.12it/s]"
     }
    }
   }
  }
 },
 "nbformat": 4,
 "nbformat_minor": 1
}
